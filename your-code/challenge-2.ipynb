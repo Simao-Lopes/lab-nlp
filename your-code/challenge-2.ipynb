{
 "cells": [
  {
   "cell_type": "markdown",
   "metadata": {},
   "source": [
    "**Import Libraries**"
   ]
  },
  {
   "cell_type": "code",
   "execution_count": 24,
   "metadata": {
    "ExecuteTime": {
     "end_time": "2022-10-26T08:00:52.007949Z",
     "start_time": "2022-10-26T08:00:51.984928Z"
    }
   },
   "outputs": [
    {
     "name": "stderr",
     "output_type": "stream",
     "text": [
      "[nltk_data] Downloading package stopwords to\n",
      "[nltk_data]     C:\\Users\\VideoMachine\\AppData\\Roaming\\nltk_data...\n",
      "[nltk_data]   Package stopwords is already up-to-date!\n"
     ]
    }
   ],
   "source": [
    "%run challenge-1.ipynb\n",
    "\n",
    "import pandas as pd\n",
    "import warnings\n",
    "from sklearn.feature_extraction.text import CountVectorizer\n",
    "\n",
    "warnings.filterwarnings(\"ignore\")"
   ]
  },
  {
   "cell_type": "markdown",
   "metadata": {},
   "source": [
    "# Challenge 2: Sentiment Analysis\n",
    "\n",
    "In this challenge we will learn sentiment analysis and practice performing sentiment analysis on Twitter tweets. \n",
    "\n",
    "## Introduction\n",
    "\n",
    "Sentiment analysis is to *systematically identify, extract, quantify, and study affective states and subjective information* based on texts ([reference](https://en.wikipedia.org/wiki/Sentiment_analysis)). In simple words, it's to understand whether a person is happy or unhappy in producing the piece of text. Why we (or rather, companies) care about sentiment in texts? It's because by understanding the sentiments in texts, we will be able to know if our customers are happy or unhappy about our products and services. If they are unhappy, the subsequent action is to figure out what have caused the unhappiness and make improvements.\n",
    "\n",
    "Basic sentiment analysis only understands the *positive* or *negative* (sometimes *neutral* too) polarities of the sentiment. More advanced sentiment analysis will also consider dimensions such as agreement, subjectivity, confidence, irony, and so on. In this challenge we will conduct the basic positive vs negative sentiment analysis based on real Twitter tweets.\n",
    "\n",
    "NLTK comes with a [sentiment analysis package](https://www.nltk.org/api/nltk.sentiment.html). This package is great for dummies to perform sentiment analysis because it requires only the textual data to make predictions. For example:\n",
    "\n",
    "```python\n",
    ">>> from nltk.sentiment.vader import SentimentIntensityAnalyzer\n",
    ">>> txt = \"Ironhack is a Global Tech School ranked num 2 worldwide.  ",
    " ",
    "Our mission is to help people transform their careers and join a thriving community of tech professionals that love what they do.\"\n",
    ">>> analyzer = SentimentIntensityAnalyzer()\n",
    ">>> analyzer.polarity_scores(txt)\n",
    "{'neg': 0.0, 'neu': 0.741, 'pos': 0.259, 'compound': 0.8442}\n",
    "```\n",
    "\n",
    "In this challenge, however, you will not use NLTK's sentiment analysis package because in your Machine Learning training in the past 2 weeks you have learned how to make predictions more accurate than that. The [tweets data](https://www.kaggle.com/kazanova/sentiment140) we will be using today are already coded for the positive/negative sentiment. You will be able to use the Naïve Bayes classifier you learned in the lesson to predict the sentiment of tweets based on the labels."
   ]
  },
  {
   "cell_type": "markdown",
   "metadata": {},
   "source": [
    "## Conducting Sentiment Analysis\n",
    "\n",
    "### Loading and Exploring Data\n",
    "\n",
    "The dataset we'll be using today is located on Kaggle (https://www.kaggle.com/kazanova/sentiment140). Once you have downloaded and imported the dataset, it you will need to define the columns names: df.columns = ['target','id','date','flag','user','text']\n",
    "\n",
    "*Notes:* \n",
    "\n",
    "* The dataset is huuuuge (1.6m tweets). When you develop your data analysis codes, you can sample a subset of the data (e.g. 20k records) so that you will save a lot of time when you test your codes.\n",
    "\n",
    ", encoding='latin-1', header=None"
   ]
  },
  {
   "cell_type": "code",
   "execution_count": 27,
   "metadata": {
    "ExecuteTime": {
     "end_time": "2022-10-26T08:06:27.899244Z",
     "start_time": "2022-10-26T08:06:25.053838Z"
    }
   },
   "outputs": [],
   "source": [
    "dataset = pd.read_csv('training.1600000.processed.noemoticon.csv',encoding='ISO-8859-1')\n",
    "dataset.columns = ['target', 'id', 'date', 'flag', 'user', 'text']\n",
    "data = dataset.sample(1000)"
   ]
  },
  {
   "cell_type": "markdown",
   "metadata": {},
   "source": [
    "### Prepare Textual Data for Sentiment Analysis\n",
    "\n",
    "Now, apply the functions you have written in Challenge 1 to your whole data set. These functions include:\n",
    "\n",
    "* `clean_up()`\n",
    "\n",
    "* `tokenize()`\n",
    "\n",
    "* `stem_and_lemmatize()`\n",
    "\n",
    "* `remove_stopwords()`\n",
    "\n",
    "Create a new column called `text_processed` in the dataframe to contain the processed data. At the end, your `text_processed` column should contain lists of word tokens that are cleaned up. Your data should look like below:\n",
    "\n",
    "![Processed Data](data-cleaning-results.png)"
   ]
  },
  {
   "cell_type": "code",
   "execution_count": 28,
   "metadata": {
    "ExecuteTime": {
     "end_time": "2022-10-26T08:08:12.759782Z",
     "start_time": "2022-10-26T08:06:31.281728Z"
    }
   },
   "outputs": [],
   "source": [
    "data['text_processed'] = data['text'].apply(clean_up)\n",
    "data['text_processed'] = data['text_processed'].apply(tokenize)\n",
    "data['text_processed'] = data['text_processed'].apply(stem_and_lemmatize)\n",
    "data['text_processed'] = data['text_processed'].apply(remove_stopwords)"
   ]
  },
  {
   "cell_type": "code",
   "execution_count": 29,
   "metadata": {
    "ExecuteTime": {
     "end_time": "2022-10-26T08:08:21.316133Z",
     "start_time": "2022-10-26T08:08:21.307125Z"
    }
   },
   "outputs": [
    {
     "data": {
      "text/html": [
       "<div>\n",
       "<style scoped>\n",
       "    .dataframe tbody tr th:only-of-type {\n",
       "        vertical-align: middle;\n",
       "    }\n",
       "\n",
       "    .dataframe tbody tr th {\n",
       "        vertical-align: top;\n",
       "    }\n",
       "\n",
       "    .dataframe thead th {\n",
       "        text-align: right;\n",
       "    }\n",
       "</style>\n",
       "<table border=\"1\" class=\"dataframe\">\n",
       "  <thead>\n",
       "    <tr style=\"text-align: right;\">\n",
       "      <th></th>\n",
       "      <th>target</th>\n",
       "      <th>id</th>\n",
       "      <th>date</th>\n",
       "      <th>flag</th>\n",
       "      <th>user</th>\n",
       "      <th>text</th>\n",
       "      <th>text_processed</th>\n",
       "    </tr>\n",
       "  </thead>\n",
       "  <tbody>\n",
       "    <tr>\n",
       "      <th>566098</th>\n",
       "      <td>0</td>\n",
       "      <td>2206726787</td>\n",
       "      <td>Wed Jun 17 06:58:16 PDT 2009</td>\n",
       "      <td>NO_QUERY</td>\n",
       "      <td>hannah106</td>\n",
       "      <td>ipod is being gay. will not download the games</td>\n",
       "      <td>[ipod, gay, download, game]</td>\n",
       "    </tr>\n",
       "    <tr>\n",
       "      <th>206968</th>\n",
       "      <td>0</td>\n",
       "      <td>1973365176</td>\n",
       "      <td>Sat May 30 11:00:30 PDT 2009</td>\n",
       "      <td>NO_QUERY</td>\n",
       "      <td>Adam__Carter</td>\n",
       "      <td>shaheen = same song</td>\n",
       "      <td>[shaheen, song]</td>\n",
       "    </tr>\n",
       "    <tr>\n",
       "      <th>1219085</th>\n",
       "      <td>4</td>\n",
       "      <td>1989901070</td>\n",
       "      <td>Mon Jun 01 03:12:20 PDT 2009</td>\n",
       "      <td>NO_QUERY</td>\n",
       "      <td>roskelld</td>\n",
       "      <td>@pinkzibra Looking forward to that again. I've...</td>\n",
       "      <td>[pinkzibra, forward, started, show, season, we...</td>\n",
       "    </tr>\n",
       "  </tbody>\n",
       "</table>\n",
       "</div>"
      ],
      "text/plain": [
       "         target          id                          date      flag  \\\n",
       "566098        0  2206726787  Wed Jun 17 06:58:16 PDT 2009  NO_QUERY   \n",
       "206968        0  1973365176  Sat May 30 11:00:30 PDT 2009  NO_QUERY   \n",
       "1219085       4  1989901070  Mon Jun 01 03:12:20 PDT 2009  NO_QUERY   \n",
       "\n",
       "                 user                                               text  \\\n",
       "566098      hannah106    ipod is being gay. will not download the games    \n",
       "206968   Adam__Carter                               shaheen = same song    \n",
       "1219085      roskelld  @pinkzibra Looking forward to that again. I've...   \n",
       "\n",
       "                                            text_processed  \n",
       "566098                         [ipod, gay, download, game]  \n",
       "206968                                     [shaheen, song]  \n",
       "1219085  [pinkzibra, forward, started, show, season, we...  "
      ]
     },
     "execution_count": 29,
     "metadata": {},
     "output_type": "execute_result"
    }
   ],
   "source": [
    "data.head(3)"
   ]
  },
  {
   "cell_type": "code",
   "execution_count": 30,
   "metadata": {
    "ExecuteTime": {
     "end_time": "2022-10-26T08:08:36.579293Z",
     "start_time": "2022-10-26T08:08:36.563279Z"
    }
   },
   "outputs": [
    {
     "data": {
      "text/plain": [
       "566098                           [ipod, gay, download, game]\n",
       "206968                                       [shaheen, song]\n",
       "1219085    [pinkzibra, forward, started, show, season, we...\n",
       "297611                          [theglamlife, twitter, long]\n",
       "1583624      [listening, rock, age, work, weee, reelpersona]\n",
       "                                 ...                        \n",
       "394263                                [wish, beatles, purse]\n",
       "355930     [fux, friday, uggh, hot, jam, amp, spot, b, li...\n",
       "701606          [lalala, miss, school, friend, daily, basis]\n",
       "946503     [beinggayle, dod, watched, notebook, kso, dami...\n",
       "1232072    [serialseb, quot, long, piece, string, quot, p...\n",
       "Name: text_processed, Length: 1000, dtype: object"
      ]
     },
     "execution_count": 30,
     "metadata": {},
     "output_type": "execute_result"
    }
   ],
   "source": [
    "data['text_processed']"
   ]
  },
  {
   "cell_type": "markdown",
   "metadata": {},
   "source": [
    "### Creating Bag of Words\n",
    "\n",
    "The purpose of this step is to create a [bag of words](https://en.wikipedia.org/wiki/Bag-of-words_model) from the processed data. The bag of words contains all the unique words in your whole text body (a.k.a. *corpus*) with the number of occurrence of each word. It will allow you to understand which words are the most important features across the whole corpus.\n",
    "\n",
    "Also, you can imagine you will have a massive set of words. The less important words (i.e. those of very low number of occurrence) do not contribute much to the sentiment. Therefore, you only need to use the most important words to build your feature set in the next step. In our case, we will use the top 5,000 words with the highest frequency to build the features.\n",
    "\n",
    "In the cell below, combine all the words in `text_processed` and calculate the frequency distribution of all words. A convenient library to calculate the term frequency distribution is NLTK's `FreqDist` class ([documentation](https://www.nltk.org/api/nltk.html#module-nltk.probability)). Then select the top 5,000 words from the frequency distribution."
   ]
  },
  {
   "cell_type": "code",
   "execution_count": 31,
   "metadata": {
    "ExecuteTime": {
     "end_time": "2022-10-26T08:08:54.321181Z",
     "start_time": "2022-10-26T08:08:54.307168Z"
    }
   },
   "outputs": [],
   "source": [
    "from nltk.probability import FreqDist\n",
    "import numpy as np\n",
    "n_words = 5000\n",
    "\n",
    "f_dist = FreqDist([item for sublist in data.text_processed for item in sublist])\n",
    "top_words = [i for i in f_dist][:n_words]"
   ]
  },
  {
   "cell_type": "markdown",
   "metadata": {},
   "source": [
    "### Building Features\n",
    "\n",
    "Now let's build the features. Using the top 5,000 words, create a 2-dimensional matrix to record whether each of those words is contained in each document (tweet). Then you also have an output column to indicate whether the sentiment in each tweet is positive. For example, assuming your bag of words has 5 items (`['one', 'two', 'three', 'four', 'five']`) out of 4 documents (`['A', 'B', 'C', 'D']`), your feature set is essentially:\n",
    "\n",
    "| Doc | one | two | three | four | five | is_positive |\n",
    "|---|---|---|---|---|---|---|\n",
    "| A | True | False | False | True | False | True |\n",
    "| B | False | False | False | True | True | False |\n",
    "| C | False | True | False | False | False | True |\n",
    "| D | True | False | False | False | True | False|\n",
    "\n",
    "However, because the `nltk.NaiveBayesClassifier.train` class we will use in the next step does not work with Pandas dataframe, the structure of your feature set should be converted to the Python list looking like below:\n",
    "\n",
    "```python\n",
    "[\n",
    "\t({\n",
    "\t\t'one': True,\n",
    "\t\t'two': False,\n",
    "\t\t'three': False,\n",
    "\t\t'four': True,\n",
    "\t\t'five': False\n",
    "\t}, True),\n",
    "\t({\n",
    "\t\t'one': False,\n",
    "\t\t'two': False,\n",
    "\t\t'three': False,\n",
    "\t\t'four': True,\n",
    "\t\t'five': True\n",
    "\t}, False),\n",
    "\t({\n",
    "\t\t'one': False,\n",
    "\t\t'two': True,\n",
    "\t\t'three': False,\n",
    "\t\t'four': False,\n",
    "\t\t'five': False\n",
    "\t}, True),\n",
    "\t({\n",
    "\t\t'one': True,\n",
    "\t\t'two': False,\n",
    "\t\t'three': False,\n",
    "\t\t'four': False,\n",
    "\t\t'five': True\n",
    "\t}, False)\n",
    "]\n",
    "```\n",
    "\n",
    "To help you in this step, watch the [following video](https://www.youtube.com/watch?v=-vVskDsHcVc) to learn how to build the feature set with Python and NLTK. The source code in this video can be found [here](https://pythonprogramming.net/words-as-features-nltk-tutorial/)."
   ]
  },
  {
   "cell_type": "markdown",
   "metadata": {},
   "source": [
    "[![Building Features](building-features.jpg)](https://www.youtube.com/watch?v=-vVskDsHcVc)"
   ]
  },
  {
   "cell_type": "code",
   "execution_count": 37,
   "metadata": {
    "ExecuteTime": {
     "end_time": "2022-10-26T08:10:28.176509Z",
     "start_time": "2022-10-26T08:10:27.859208Z"
    }
   },
   "outputs": [],
   "source": [
    "def find_features(text):\n",
    "    words = set(text)\n",
    "    features = {}\n",
    "    for w in top_words:\n",
    "        features[w] = (w in words)\n",
    "    return features\n",
    "\n",
    "# Transforming target column into boolean Values\n",
    "# data['target'] = data['target'].map({4: True, 0: False})\n",
    "feature_set = [(find_features(text),target) for text,target in list(zip(data.text_processed, data.target))]"
   ]
  },
  {
   "cell_type": "markdown",
   "metadata": {},
   "source": [
    "### Building and Traininng Naive Bayes Model\n",
    "\n",
    "In this step you will split your feature set into a training and a test set. Then you will create a Bayes classifier instance using `nltk.NaiveBayesClassifier.train` ([example](https://www.nltk.org/book/ch06.html)) to train with the training dataset.\n",
    "\n",
    "After training the model, call `classifier.show_most_informative_features()` to inspect the most important features. The output will look like:\n",
    "\n",
    "```\n",
    "Most Informative Features\n",
    "\t    snow = True            False : True   =     34.3 : 1.0\n",
    "\t  easter = True            False : True   =     26.2 : 1.0\n",
    "\t headach = True            False : True   =     20.9 : 1.0\n",
    "\t    argh = True            False : True   =     17.6 : 1.0\n",
    "\tunfortun = True            False : True   =     16.9 : 1.0\n",
    "\t    jona = True             True : False  =     16.2 : 1.0\n",
    "\t     ach = True            False : True   =     14.9 : 1.0\n",
    "\t     sad = True            False : True   =     13.0 : 1.0\n",
    "\t  parent = True            False : True   =     12.9 : 1.0\n",
    "\t  spring = True            False : True   =     12.7 : 1.0\n",
    "```\n",
    "\n",
    "The [following video](https://www.youtube.com/watch?v=rISOsUaTrO4) will help you complete this step. The source code in this video can be found [here](https://pythonprogramming.net/naive-bayes-classifier-nltk-tutorial/)."
   ]
  },
  {
   "cell_type": "markdown",
   "metadata": {},
   "source": [
    "[![Building and Training NB](nb-model-building.jpg)](https://www.youtube.com/watch?v=rISOsUaTrO4)"
   ]
  },
  {
   "cell_type": "code",
   "execution_count": 41,
   "metadata": {
    "ExecuteTime": {
     "end_time": "2022-10-26T08:11:56.466921Z",
     "start_time": "2022-10-26T08:11:56.457913Z"
    }
   },
   "outputs": [],
   "source": [
    "train = feature_set[:round(len(data)*0.75)]\n",
    "test = feature_set[round(len(data)*0.25):]"
   ]
  },
  {
   "cell_type": "code",
   "execution_count": 42,
   "metadata": {
    "ExecuteTime": {
     "end_time": "2022-10-26T08:12:00.190101Z",
     "start_time": "2022-10-26T08:11:58.619524Z"
    }
   },
   "outputs": [],
   "source": [
    "classifier = nltk.NaiveBayesClassifier.train(train)"
   ]
  },
  {
   "cell_type": "markdown",
   "metadata": {},
   "source": [
    "### Testing Naive Bayes Model\n",
    "\n",
    "Now we'll test our classifier with the test dataset. This is done by calling `nltk.classify.accuracy(classifier, test)`.\n",
    "\n",
    "As mentioned in one of the tutorial videos, a Naive Bayes model is considered OK if your accuracy score is over 0.6. If your accuracy score is over 0.7, you've done a great job!"
   ]
  },
  {
   "cell_type": "code",
   "execution_count": 43,
   "metadata": {
    "ExecuteTime": {
     "end_time": "2022-10-26T08:12:07.439756Z",
     "start_time": "2022-10-26T08:12:02.853104Z"
    }
   },
   "outputs": [
    {
     "name": "stdout",
     "output_type": "stream",
     "text": [
      "Classifier accuracy percent: 86.4\n",
      "Most Informative Features\n",
      "                   sorry = True            False : True   =      8.4 : 1.0\n",
      "                    cute = True             True : False  =      6.1 : 1.0\n",
      "                    luck = True             True : False  =      5.4 : 1.0\n",
      "                   watch = True             True : False  =      5.4 : 1.0\n",
      "                       r = True             True : False  =      4.6 : 1.0\n",
      "                    love = True             True : False  =      4.2 : 1.0\n",
      "                   great = True             True : False  =      4.1 : 1.0\n",
      "                   photo = True             True : False  =      3.9 : 1.0\n",
      "                     run = True             True : False  =      3.9 : 1.0\n",
      "                     yay = True             True : False  =      3.9 : 1.0\n",
      "                    wish = True            False : True   =      3.9 : 1.0\n",
      "                   bored = True            False : True   =      3.4 : 1.0\n",
      "                homework = True            False : True   =      3.4 : 1.0\n",
      "                    late = True            False : True   =      3.4 : 1.0\n",
      "               yesterday = True            False : True   =      3.4 : 1.0\n"
     ]
    }
   ],
   "source": [
    "print(\"Classifier accuracy percent:\",(nltk.classify.accuracy(classifier, test))*100)\n",
    "classifier.show_most_informative_features(15)"
   ]
  },
  {
   "cell_type": "markdown",
   "metadata": {},
   "source": [
    "## Bonus Question 1: Improve Model Performance\n",
    "\n",
    "If you are still not exhausted so far and want to dig deeper, try to improve your classifier performance. There are many aspects you can dig into, for example:\n",
    "\n",
    "* Improve stemming and lemmatization. Inspect your bag of words and the most important features. Are there any words you should furuther remove from analysis? You can append these words to further remove to the stop words list.\n",
    "\n",
    "* Remember we only used the top 5,000 features to build model? Try using different numbers of top features. The bottom line is to use as few features as you can without compromising your model performance. The fewer features you select into your model, the faster your model is trained. Then you can use a larger sample size to improve your model accuracy score."
   ]
  },
  {
   "cell_type": "code",
   "execution_count": 44,
   "metadata": {
    "ExecuteTime": {
     "end_time": "2022-10-26T08:12:17.822029Z",
     "start_time": "2022-10-26T08:12:17.819026Z"
    }
   },
   "outputs": [],
   "source": [
    "lst = classifier.most_informative_features(500)"
   ]
  },
  {
   "cell_type": "code",
   "execution_count": 45,
   "metadata": {
    "ExecuteTime": {
     "end_time": "2022-10-26T08:12:23.049947Z",
     "start_time": "2022-10-26T08:12:23.033931Z"
    }
   },
   "outputs": [],
   "source": [
    "top_cols = [i[0] for i in lst]"
   ]
  },
  {
   "cell_type": "code",
   "execution_count": 46,
   "metadata": {
    "ExecuteTime": {
     "end_time": "2022-10-26T08:12:24.598217Z",
     "start_time": "2022-10-26T08:12:24.536166Z"
    }
   },
   "outputs": [],
   "source": [
    "def find_features_2(text):\n",
    "    words = set(text)\n",
    "    features = {}\n",
    "    for w in top_cols:\n",
    "        features[w] = (w in words)\n",
    "    return features\n",
    "\n",
    "feature_set_2 = [(find_features_2(text),target) for text,target in list(zip(data.text_processed, data.target))]"
   ]
  },
  {
   "cell_type": "code",
   "execution_count": 47,
   "metadata": {
    "ExecuteTime": {
     "end_time": "2022-10-26T08:12:28.583164Z",
     "start_time": "2022-10-26T08:12:28.575156Z"
    }
   },
   "outputs": [],
   "source": [
    "train_t = feature_set_2[:round(len(data)*0.75)]\n",
    "test_t = feature_set_2[round(len(data)*0.25):]"
   ]
  },
  {
   "cell_type": "code",
   "execution_count": 48,
   "metadata": {
    "ExecuteTime": {
     "end_time": "2022-10-26T08:12:30.840276Z",
     "start_time": "2022-10-26T08:12:30.624081Z"
    }
   },
   "outputs": [],
   "source": [
    "classifier_2 = nltk.NaiveBayesClassifier.train(train_t)"
   ]
  },
  {
   "cell_type": "code",
   "execution_count": 49,
   "metadata": {
    "ExecuteTime": {
     "end_time": "2022-10-26T08:12:32.275658Z",
     "start_time": "2022-10-26T08:12:31.663744Z"
    },
    "scrolled": true
   },
   "outputs": [
    {
     "name": "stdout",
     "output_type": "stream",
     "text": [
      "Classifier accuracy percent: 73.2\n"
     ]
    }
   ],
   "source": [
    "print(\"Classifier accuracy percent:\",(nltk.classify.accuracy(classifier_2, test_t))*100)"
   ]
  },
  {
   "cell_type": "markdown",
   "metadata": {},
   "source": [
    "**Notes**\n",
    "***\n",
    "As we can see above, we can achieve acceptable performance with 10x less features"
   ]
  },
  {
   "cell_type": "markdown",
   "metadata": {},
   "source": [
    "## Bonus Question 2: Machine Learning Pipeline\n",
    "\n",
    "In a new Jupyter Notebook, combine all your codes into a function (or a class). Your new function will execute the complete machine learning pipeline job by receiving the dataset location and output the classifier. This will allow you to use your function to predict the sentiment of any tweet in real time. "
   ]
  },
  {
   "cell_type": "code",
   "execution_count": 3,
   "metadata": {
    "ExecuteTime": {
     "end_time": "2022-10-26T07:17:34.711282Z",
     "start_time": "2022-10-26T07:17:34.686261Z"
    }
   },
   "outputs": [],
   "source": [
    "import re\n",
    "from nltk.probability import FreqDist\n",
    "from sklearn.model_selection import train_test_split\n",
    "import numpy as np\n",
    "import pandas as pd\n",
    "import re\n",
    "from nltk.tokenize import word_tokenize\n",
    "from nltk.stem import WordNetLemmatizer\n",
    "import nltk\n",
    "from nltk.corpus import stopwords\n",
    "\n",
    "class WordClassifier:\n",
    "    \n",
    "    def __init__(self, path, n_words=5000, sample=50000, top_words='',model='', data= '',original=''):\n",
    "        \n",
    "        self.path = path\n",
    "        self.n_words = n_words\n",
    "        self.top_words = top_words\n",
    "        self.model = model\n",
    "        self.data = data\n",
    "        self.sample = sample\n",
    "        self.dataset = original\n",
    "        \n",
    "    def prepare_data(self):\n",
    "        self.dataset = pd.read_csv(self.path,encoding='ISO-8859-1')\n",
    "        self.dataset.columns = ['target', 'id', 'date', 'flag', 'user', 'text']\n",
    "        data = self.dataset.sample(self.sample)\n",
    "        \n",
    "        print('Inicializing class, please wait.')\n",
    "        data['text_processed'] = data['text'].apply(self.clean_up)\n",
    "        print('Tokenize.')\n",
    "        data['text_processed'] = data['text_processed'].apply(self.tokenize)\n",
    "        print('Stem/Lem.')\n",
    "        data['text_processed'] = data['text_processed'].apply(self.stem_and_lemmatize)\n",
    "        print('Stopwords.')\n",
    "        data['text_processed'] = data['text_processed'].apply(self.remove_stopwords)          \n",
    "\n",
    "        f_dist = FreqDist([item for sublist in data.text_processed for item in sublist])\n",
    "        self.top_words = [i for i in f_dist][:self.n_words+1]\n",
    "\n",
    "        lst = data.text_processed.apply(self.find_features)\n",
    "        df = pd.DataFrame(list(lst), columns=self.top_words)\n",
    "        df['target'] = list(data['target'])\n",
    "        self.data = df\n",
    "        print('Class created')\n",
    "    \n",
    "\n",
    "    def clean_up(self, s):\n",
    "        x = re.sub(r'https?:\\/\\/(www\\.)?[-a-zA-Z0-9@:%._\\+~#=]{1,256}\\.[a-zA-Z0-9()]{1,3}\\b', ' ',s)\n",
    "        x = re.findall(r' ?[a-zA-Z]+', x)\n",
    "        return \" \".join(x).lower()\n",
    "    \n",
    "\n",
    "    def tokenize(self,s):\n",
    "        return word_tokenize(s)\n",
    "    \n",
    "\n",
    "    def stem_and_lemmatize(self,l):\n",
    "        lemmatizer = WordNetLemmatizer()\n",
    "        return [lemmatizer.lemmatize(x) for x in l]\n",
    "    \n",
    "\n",
    "    def remove_stopwords(self,l):\n",
    "#         return list(set(l).difference(stopwords.words()))\n",
    "        return [word for word in l if not word in stopwords.words()]\n",
    "\n",
    "    def find_features(self, text):\n",
    "        words = set(text)\n",
    "        features = []\n",
    "        for w in self.top_words:\n",
    "            if w in words:\n",
    "                features.append(1)\n",
    "            else:\n",
    "                features.append(0)\n",
    "        return features\n",
    "    \n",
    "    def create_model(self, d1= 300, d2=100, batch=20, activation = 'sigmoid'):\n",
    "        import numpy as np\n",
    "        from keras.models import Sequential\n",
    "        from keras.layers import Dense\n",
    "        import tensorflow as tf\n",
    "        from keras.callbacks import ReduceLROnPlateau, EarlyStopping\n",
    "        \n",
    "        tf.config.set_visible_devices([], 'GPU')\n",
    "        \n",
    "        X = np.array(self.data.drop(columns='target')).astype(np.float32)\n",
    "        y = np.array(self.data.target.map({4: True, 0: False})).astype(np.float32)\n",
    "        X_train, X_test, y_train, y_test = train_test_split(X, y, test_size=0.20)  \n",
    "        display(X_train.shape)\n",
    "        display(y_train.shape)\n",
    "        print('Creating model, please wait.')\n",
    "        \n",
    "        print(len(self.data.columns)-1)\n",
    "        # Build the model.\n",
    "        model = Sequential([ \n",
    "            Dense(d1, activation='relu', input_shape=(len(self.data.columns)-1,)), \n",
    "            Dense(d1, activation='relu'),\n",
    "            Dense(d2, activation='relu'),\n",
    "            Dense(1, activation=activation)])\n",
    "\n",
    "        # Compile the model.\n",
    "        model.compile(\n",
    "          optimizer='adam', \n",
    "          loss=tf.keras.losses.binary_crossentropy, \n",
    "          metrics=['accuracy'],\n",
    "        )\n",
    "        \n",
    "        # setting up callbacks\n",
    "        callbacks = [ ReduceLROnPlateau(monitor='loss', patience=10, cooldown=0),\n",
    "              EarlyStopping(monitor='accuracy', min_delta=1e-4, patience=10)]\n",
    "            \n",
    "        # Train the model.\n",
    "        history = model.fit(\n",
    "            X_train,\n",
    "            y_train, \n",
    "            epochs=50,\n",
    "            batch_size=batch, \n",
    "            verbose = 1,\n",
    "#             use_multiprocessing = 1,\n",
    "            callbacks = callbacks,\n",
    "        )\n",
    "        \n",
    "        print('Evaluate model\\n')\n",
    "        self.model = history\n",
    "        # Evaluate the model.\n",
    "        model.evaluate(\n",
    "          X_test,\n",
    "          y_test\n",
    "        )\n",
    "        \n",
    "        return self.model\n",
    "    \n",
    "    def get_data(self):\n",
    "        return self.data\n",
    "    \n",
    "    def data_feed(self, df):\n",
    "        self.data = df"
   ]
  },
  {
   "cell_type": "code",
   "execution_count": 4,
   "metadata": {
    "ExecuteTime": {
     "end_time": "2022-10-26T07:25:55.577636Z",
     "start_time": "2022-10-26T07:17:47.588546Z"
    }
   },
   "outputs": [
    {
     "name": "stdout",
     "output_type": "stream",
     "text": [
      "Inicializing class, please wait.\n",
      "Tokenize.\n",
      "Stem/Lem.\n",
      "Stopwords.\n",
      "Class created\n"
     ]
    }
   ],
   "source": [
    "new_model = WordClassifier('training.1600000.processed.noemoticon.csv')\n",
    "new_model.prepare_data()"
   ]
  },
  {
   "cell_type": "code",
   "execution_count": 52,
   "metadata": {
    "ExecuteTime": {
     "end_time": "2022-10-26T08:21:25.890479Z",
     "start_time": "2022-10-26T08:16:08.203663Z"
    }
   },
   "outputs": [
    {
     "data": {
      "text/plain": [
       "(40000, 5000)"
      ]
     },
     "metadata": {},
     "output_type": "display_data"
    },
    {
     "data": {
      "text/plain": [
       "(40000,)"
      ]
     },
     "metadata": {},
     "output_type": "display_data"
    },
    {
     "name": "stdout",
     "output_type": "stream",
     "text": [
      "Creating model, please wait.\n",
      "5000\n",
      "Epoch 1/50\n",
      "800/800 [==============================] - 7s 8ms/step - loss: 0.5644 - accuracy: 0.7046 - lr: 0.0010\n",
      "Epoch 2/50\n",
      "800/800 [==============================] - 7s 8ms/step - loss: 0.4508 - accuracy: 0.7872 - lr: 0.0010\n",
      "Epoch 3/50\n",
      "800/800 [==============================] - 6s 8ms/step - loss: 0.2896 - accuracy: 0.8684 - lr: 0.0010\n",
      "Epoch 4/50\n",
      "800/800 [==============================] - 6s 8ms/step - loss: 0.1422 - accuracy: 0.9357 - lr: 0.0010\n",
      "Epoch 5/50\n",
      "800/800 [==============================] - 6s 8ms/step - loss: 0.0940 - accuracy: 0.9569 - lr: 0.0010\n",
      "Epoch 6/50\n",
      "800/800 [==============================] - 6s 8ms/step - loss: 0.0796 - accuracy: 0.9619 - lr: 0.0010\n",
      "Epoch 7/50\n",
      "800/800 [==============================] - 6s 8ms/step - loss: 0.0709 - accuracy: 0.9646 - lr: 0.0010\n",
      "Epoch 8/50\n",
      "800/800 [==============================] - 6s 8ms/step - loss: 0.0699 - accuracy: 0.9649 - lr: 0.0010\n",
      "Epoch 9/50\n",
      "800/800 [==============================] - 6s 8ms/step - loss: 0.0665 - accuracy: 0.9656 - lr: 0.0010\n",
      "Epoch 10/50\n",
      "800/800 [==============================] - 6s 8ms/step - loss: 0.0664 - accuracy: 0.9661 - lr: 0.0010\n",
      "Epoch 11/50\n",
      "800/800 [==============================] - 6s 8ms/step - loss: 0.0662 - accuracy: 0.9655 - lr: 0.0010\n",
      "Epoch 12/50\n",
      "800/800 [==============================] - 6s 8ms/step - loss: 0.0670 - accuracy: 0.9656 - lr: 0.0010\n",
      "Epoch 13/50\n",
      "800/800 [==============================] - 6s 8ms/step - loss: 0.0647 - accuracy: 0.9668 - lr: 0.0010\n",
      "Epoch 14/50\n",
      "800/800 [==============================] - 6s 8ms/step - loss: 0.0635 - accuracy: 0.9675 - lr: 0.0010\n",
      "Epoch 15/50\n",
      "800/800 [==============================] - 6s 8ms/step - loss: 0.0623 - accuracy: 0.9680 - lr: 0.0010\n",
      "Epoch 16/50\n",
      "800/800 [==============================] - 6s 8ms/step - loss: 0.0618 - accuracy: 0.9680 - lr: 0.0010\n",
      "Epoch 17/50\n",
      "800/800 [==============================] - 6s 8ms/step - loss: 0.0592 - accuracy: 0.9682 - lr: 0.0010\n",
      "Epoch 18/50\n",
      "800/800 [==============================] - 6s 8ms/step - loss: 0.0581 - accuracy: 0.9683 - lr: 0.0010\n",
      "Epoch 19/50\n",
      "800/800 [==============================] - 6s 8ms/step - loss: 0.0575 - accuracy: 0.9688 - lr: 0.0010\n",
      "Epoch 20/50\n",
      "800/800 [==============================] - 6s 8ms/step - loss: 0.0611 - accuracy: 0.9682 - lr: 0.0010\n",
      "Epoch 21/50\n",
      "800/800 [==============================] - 6s 8ms/step - loss: 0.0664 - accuracy: 0.9659 - lr: 0.0010\n",
      "Epoch 22/50\n",
      "800/800 [==============================] - 6s 8ms/step - loss: 0.0618 - accuracy: 0.9677 - lr: 0.0010\n",
      "Epoch 23/50\n",
      "800/800 [==============================] - 6s 8ms/step - loss: 0.0598 - accuracy: 0.9688 - lr: 0.0010\n",
      "Epoch 24/50\n",
      "800/800 [==============================] - 6s 8ms/step - loss: 0.0591 - accuracy: 0.9686 - lr: 0.0010\n",
      "Epoch 25/50\n",
      "800/800 [==============================] - 6s 8ms/step - loss: 0.0582 - accuracy: 0.9691 - lr: 0.0010\n",
      "Epoch 26/50\n",
      "800/800 [==============================] - 6s 8ms/step - loss: 0.0567 - accuracy: 0.9692 - lr: 0.0010\n",
      "Epoch 27/50\n",
      "800/800 [==============================] - 6s 8ms/step - loss: 0.0566 - accuracy: 0.9691 - lr: 0.0010\n",
      "Epoch 28/50\n",
      "800/800 [==============================] - 6s 8ms/step - loss: 0.0566 - accuracy: 0.9692 - lr: 0.0010\n",
      "Epoch 29/50\n",
      "800/800 [==============================] - 6s 8ms/step - loss: 0.0570 - accuracy: 0.9688 - lr: 0.0010\n",
      "Epoch 30/50\n",
      "800/800 [==============================] - 6s 8ms/step - loss: 0.0585 - accuracy: 0.9685 - lr: 0.0010\n",
      "Epoch 31/50\n",
      "800/800 [==============================] - 6s 8ms/step - loss: 0.0621 - accuracy: 0.9675 - lr: 0.0010\n",
      "Epoch 32/50\n",
      "800/800 [==============================] - 6s 8ms/step - loss: 0.0614 - accuracy: 0.9681 - lr: 0.0010\n",
      "Epoch 33/50\n",
      "800/800 [==============================] - 6s 8ms/step - loss: 0.0588 - accuracy: 0.9691 - lr: 0.0010\n",
      "Epoch 34/50\n",
      "800/800 [==============================] - 6s 8ms/step - loss: 0.0563 - accuracy: 0.9692 - lr: 0.0010\n",
      "Epoch 35/50\n",
      "800/800 [==============================] - 6s 8ms/step - loss: 0.0563 - accuracy: 0.9695 - lr: 0.0010\n",
      "Epoch 36/50\n",
      "800/800 [==============================] - 6s 8ms/step - loss: 0.0560 - accuracy: 0.9695 - lr: 0.0010\n",
      "Epoch 37/50\n",
      "800/800 [==============================] - 7s 8ms/step - loss: 0.0564 - accuracy: 0.9693 - lr: 0.0010\n",
      "Epoch 38/50\n",
      "800/800 [==============================] - 6s 8ms/step - loss: 0.0564 - accuracy: 0.9696 - lr: 0.0010\n",
      "Epoch 39/50\n",
      "800/800 [==============================] - 6s 8ms/step - loss: 0.0589 - accuracy: 0.9687 - lr: 0.0010\n",
      "Epoch 40/50\n",
      "800/800 [==============================] - 6s 8ms/step - loss: 0.0591 - accuracy: 0.9683 - lr: 0.0010\n",
      "Epoch 41/50\n",
      "800/800 [==============================] - 7s 8ms/step - loss: 0.0581 - accuracy: 0.9691 - lr: 0.0010\n",
      "Epoch 42/50\n",
      "800/800 [==============================] - 6s 8ms/step - loss: 0.0568 - accuracy: 0.9694 - lr: 0.0010\n",
      "Epoch 43/50\n",
      "800/800 [==============================] - 6s 8ms/step - loss: 0.0572 - accuracy: 0.9696 - lr: 0.0010\n",
      "Epoch 44/50\n",
      "800/800 [==============================] - 6s 8ms/step - loss: 0.0561 - accuracy: 0.9694 - lr: 0.0010\n",
      "Epoch 45/50\n",
      "800/800 [==============================] - 7s 8ms/step - loss: 0.0558 - accuracy: 0.9693 - lr: 0.0010\n",
      "Epoch 46/50\n",
      "800/800 [==============================] - 7s 8ms/step - loss: 0.0557 - accuracy: 0.9692 - lr: 0.0010\n",
      "Epoch 47/50\n",
      "800/800 [==============================] - 7s 8ms/step - loss: 0.0561 - accuracy: 0.9694 - lr: 0.0010\n",
      "Epoch 48/50\n",
      "800/800 [==============================] - 7s 8ms/step - loss: 0.0585 - accuracy: 0.9689 - lr: 0.0010\n",
      "Evaluate model\n",
      "\n",
      "313/313 [==============================] - 1s 3ms/step - loss: 3.9155 - accuracy: 0.6972\n"
     ]
    },
    {
     "data": {
      "text/plain": [
       "<keras.callbacks.History at 0x1c15127eee0>"
      ]
     },
     "execution_count": 52,
     "metadata": {},
     "output_type": "execute_result"
    }
   ],
   "source": [
    "new_model.create_model(300,100,50)"
   ]
  }
 ],
 "metadata": {
  "kernelspec": {
   "display_name": "Python 3 (ipykernel)",
   "language": "python",
   "name": "python3"
  },
  "language_info": {
   "codemirror_mode": {
    "name": "ipython",
    "version": 3
   },
   "file_extension": ".py",
   "mimetype": "text/x-python",
   "name": "python",
   "nbconvert_exporter": "python",
   "pygments_lexer": "ipython3",
   "version": "3.9.12"
  },
  "toc": {
   "base_numbering": 1,
   "nav_menu": {},
   "number_sections": true,
   "sideBar": true,
   "skip_h1_title": false,
   "title_cell": "Table of Contents",
   "title_sidebar": "Contents",
   "toc_cell": false,
   "toc_position": {},
   "toc_section_display": true,
   "toc_window_display": false
  }
 },
 "nbformat": 4,
 "nbformat_minor": 2
}
