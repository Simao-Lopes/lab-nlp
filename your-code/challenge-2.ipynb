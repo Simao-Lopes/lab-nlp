{
 "cells": [
  {
   "cell_type": "markdown",
   "metadata": {},
   "source": [
    "**Import Libraries**"
   ]
  },
  {
   "cell_type": "code",
   "execution_count": 1,
   "metadata": {
    "ExecuteTime": {
     "end_time": "2022-10-27T07:08:13.409117Z",
     "start_time": "2022-10-27T07:08:07.925073Z"
    }
   },
   "outputs": [
    {
     "name": "stderr",
     "output_type": "stream",
     "text": [
      "[nltk_data] Downloading package stopwords to\n",
      "[nltk_data]     C:\\Users\\VideoMachine\\AppData\\Roaming\\nltk_data...\n",
      "[nltk_data]   Package stopwords is already up-to-date!\n"
     ]
    }
   ],
   "source": [
    "%run challenge-1.ipynb\n",
    "\n",
    "import pandas as pd\n",
    "import warnings\n",
    "from sklearn.feature_extraction.text import CountVectorizer\n",
    "import cProfile\n",
    "\n",
    "warnings.filterwarnings(\"ignore\")"
   ]
  },
  {
   "cell_type": "markdown",
   "metadata": {},
   "source": [
    "# Challenge 2: Sentiment Analysis\n",
    "\n",
    "In this challenge we will learn sentiment analysis and practice performing sentiment analysis on Twitter tweets. \n",
    "\n",
    "## Introduction\n",
    "\n",
    "Sentiment analysis is to *systematically identify, extract, quantify, and study affective states and subjective information* based on texts ([reference](https://en.wikipedia.org/wiki/Sentiment_analysis)). In simple words, it's to understand whether a person is happy or unhappy in producing the piece of text. Why we (or rather, companies) care about sentiment in texts? It's because by understanding the sentiments in texts, we will be able to know if our customers are happy or unhappy about our products and services. If they are unhappy, the subsequent action is to figure out what have caused the unhappiness and make improvements.\n",
    "\n",
    "Basic sentiment analysis only understands the *positive* or *negative* (sometimes *neutral* too) polarities of the sentiment. More advanced sentiment analysis will also consider dimensions such as agreement, subjectivity, confidence, irony, and so on. In this challenge we will conduct the basic positive vs negative sentiment analysis based on real Twitter tweets.\n",
    "\n",
    "NLTK comes with a [sentiment analysis package](https://www.nltk.org/api/nltk.sentiment.html). This package is great for dummies to perform sentiment analysis because it requires only the textual data to make predictions. For example:\n",
    "\n",
    "```python\n",
    ">>> from nltk.sentiment.vader import SentimentIntensityAnalyzer\n",
    ">>> txt = \"Ironhack is a Global Tech School ranked num 2 worldwide.  ",
    " ",
    "Our mission is to help people transform their careers and join a thriving community of tech professionals that love what they do.\"\n",
    ">>> analyzer = SentimentIntensityAnalyzer()\n",
    ">>> analyzer.polarity_scores(txt)\n",
    "{'neg': 0.0, 'neu': 0.741, 'pos': 0.259, 'compound': 0.8442}\n",
    "```\n",
    "\n",
    "In this challenge, however, you will not use NLTK's sentiment analysis package because in your Machine Learning training in the past 2 weeks you have learned how to make predictions more accurate than that. The [tweets data](https://www.kaggle.com/kazanova/sentiment140) we will be using today are already coded for the positive/negative sentiment. You will be able to use the Naïve Bayes classifier you learned in the lesson to predict the sentiment of tweets based on the labels."
   ]
  },
  {
   "cell_type": "markdown",
   "metadata": {},
   "source": [
    "## Conducting Sentiment Analysis\n",
    "\n",
    "### Loading and Exploring Data\n",
    "\n",
    "The dataset we'll be using today is located on Kaggle (https://www.kaggle.com/kazanova/sentiment140). Once you have downloaded and imported the dataset, it you will need to define the columns names: df.columns = ['target','id','date','flag','user','text']\n",
    "\n",
    "*Notes:* \n",
    "\n",
    "* The dataset is huuuuge (1.6m tweets). When you develop your data analysis codes, you can sample a subset of the data (e.g. 20k records) so that you will save a lot of time when you test your codes.\n",
    "\n",
    ", encoding='latin-1', header=None"
   ]
  },
  {
   "cell_type": "code",
   "execution_count": 4,
   "metadata": {
    "ExecuteTime": {
     "end_time": "2022-10-27T07:08:35.652496Z",
     "start_time": "2022-10-27T07:08:32.873260Z"
    }
   },
   "outputs": [],
   "source": [
    "dataset = pd.read_csv('training.1600000.processed.noemoticon.csv',encoding='ISO-8859-1')\n",
    "dataset.columns = ['target', 'id', 'date', 'flag', 'user', 'text']\n",
    "data = dataset.sample(10000)"
   ]
  },
  {
   "cell_type": "markdown",
   "metadata": {},
   "source": [
    "### Prepare Textual Data for Sentiment Analysis\n",
    "\n",
    "Now, apply the functions you have written in Challenge 1 to your whole data set. These functions include:\n",
    "\n",
    "* `clean_up()`\n",
    "\n",
    "* `tokenize()`\n",
    "\n",
    "* `stem_and_lemmatize()`\n",
    "\n",
    "* `remove_stopwords()`\n",
    "\n",
    "Create a new column called `text_processed` in the dataframe to contain the processed data. At the end, your `text_processed` column should contain lists of word tokens that are cleaned up. Your data should look like below:\n",
    "\n",
    "![Processed Data](data-cleaning-results.png)"
   ]
  },
  {
   "cell_type": "code",
   "execution_count": 5,
   "metadata": {
    "ExecuteTime": {
     "end_time": "2022-10-27T07:08:37.665515Z",
     "start_time": "2022-10-27T07:08:36.354251Z"
    }
   },
   "outputs": [],
   "source": [
    "data['text_processed'] = data['text'].apply(clean_up)\n",
    "data['text_processed'] = data['text_processed'].apply(tokenize)\n",
    "data['text_processed'] = data['text_processed'].apply(stem_and_lemmatize)"
   ]
  },
  {
   "cell_type": "code",
   "execution_count": 7,
   "metadata": {
    "ExecuteTime": {
     "end_time": "2022-10-27T07:37:38.101175Z",
     "start_time": "2022-10-27T07:11:35.599082Z"
    }
   },
   "outputs": [],
   "source": [
    "with cProfile.Profile() as pr:\n",
    "    data['text_processed'] = data['text_processed'].apply(remove_stopwords)"
   ]
  },
  {
   "cell_type": "code",
   "execution_count": 12,
   "metadata": {
    "ExecuteTime": {
     "end_time": "2022-10-27T08:04:13.462515Z",
     "start_time": "2022-10-27T08:04:13.366428Z"
    }
   },
   "outputs": [
    {
     "name": "stdout",
     "output_type": "stream",
     "text": [
      "         3163709460 function calls (3163709437 primitive calls) in 1562.498 seconds\n",
      "\n",
      "   Ordered by: internal time\n",
      "\n",
      "   ncalls  tottime  percall  cumtime  percall filename:lineno(function)\n",
      "   136360  210.551    0.002  309.929    0.002 C:\\Users\\VideoMachine\\anaconda3\\lib\\site-packages\\nltk\\tokenize\\simple.py:116(<listcomp>)\n",
      "   136360  208.253    0.002  384.533    0.003 C:\\Users\\VideoMachine\\anaconda3\\lib\\site-packages\\nltk\\corpus\\reader\\wordlist.py:19(<listcomp>)\n",
      "  3954440  200.330    0.000  200.330    0.000 {built-in method io.open}\n",
      "1426734687  178.331    0.000  178.331    0.000 {method 'startswith' of 'str' objects}\n",
      "  3954452  169.681    0.000  169.681    0.000 {built-in method nt.stat}\n",
      "1426461961   99.378    0.000   99.378    0.000 {method 'rstrip' of 'str' objects}\n",
      "  7908880   95.858    0.000   95.858    0.000 {method 'read' of '_io.BufferedReader' objects}\n",
      "   136360   78.147    0.001   78.147    0.001 {method 'splitlines' of 'str' objects}\n",
      "  3954440   53.940    0.000   53.940    0.000 {method 'close' of '_io.BufferedReader' objects}\n",
      "    10000   23.743    0.002 1562.421    0.156 C:\\Users\\VideoMachine\\AppData\\Local\\Temp\\ipykernel_11596\\1293406701.py:11(<listcomp>)\n",
      "  7908881   22.346    0.000   22.346    0.000 C:\\Users\\VideoMachine\\anaconda3\\lib\\site-packages\\nltk\\compat.py:25(add_py3_data)\n",
      "  3954442   20.381    0.000   37.347    0.000 C:\\Users\\VideoMachine\\anaconda3\\lib\\ntpath.py:450(normpath)\n",
      "  3954440   19.671    0.000   19.671    0.000 {built-in method _codecs.utf_8_decode}\n",
      " 11863326   18.212    0.000   23.257    0.000 C:\\Users\\VideoMachine\\anaconda3\\lib\\ntpath.py:124(splitdrive)\n",
      "   136360   16.586    0.000  761.849    0.006 C:\\Users\\VideoMachine\\anaconda3\\lib\\site-packages\\nltk\\corpus\\reader\\api.py:206(raw)\n",
      "  3954441   10.917    0.000   28.313    0.000 C:\\Users\\VideoMachine\\anaconda3\\lib\\ntpath.py:77(join)\n",
      "  7908881   10.378    0.000  337.308    0.000 C:\\Users\\VideoMachine\\anaconda3\\lib\\site-packages\\nltk\\compat.py:39(_decorator)\n",
      "  3954440    9.909    0.000   63.231    0.000 C:\\Users\\VideoMachine\\anaconda3\\lib\\site-packages\\nltk\\data.py:1401(_check_bom)\n",
      "  3954440    7.724    0.000   80.788    0.000 C:\\Users\\VideoMachine\\anaconda3\\lib\\site-packages\\nltk\\data.py:988(__init__)\n",
      "  3954440    6.972    0.000  268.069    0.000 C:\\Users\\VideoMachine\\anaconda3\\lib\\site-packages\\nltk\\data.py:332(join)\n",
      "  7908880    6.738    0.000    6.738    0.000 {method 'seek' of '_io.BufferedReader' objects}\n",
      "  3954440    6.447    0.000   88.404    0.000 C:\\Users\\VideoMachine\\anaconda3\\lib\\site-packages\\nltk\\data.py:1323(_read)\n",
      "  3954440    6.308    0.000  588.425    0.000 C:\\Users\\VideoMachine\\anaconda3\\lib\\site-packages\\nltk\\corpus\\reader\\api.py:222(open)\n",
      "  3954440    6.019    0.000  310.873    0.000 C:\\Users\\VideoMachine\\anaconda3\\lib\\site-packages\\nltk\\data.py:323(open)\n",
      "  3954441    5.543    0.000    5.543    0.000 {built-in method nt._getfullpathname}\n",
      "  3954441    4.963    0.000  223.795    0.000 C:\\Users\\VideoMachine\\anaconda3\\lib\\site-packages\\nltk\\data.py:302(__init__)\n",
      " 31635702    4.417    0.000    4.417    0.000 {built-in method builtins.isinstance}\n",
      "  3954441    4.193    0.000    4.193    0.000 {method 'sub' of 're.Pattern' objects}\n",
      "47726087/47726072    3.563    0.000    3.563    0.000 {built-in method builtins.len}\n",
      "  4090805    3.443    0.000    3.443    0.000 {method 'join' of 'str' objects}\n",
      "  3954473    3.343    0.000    4.929    0.000 C:\\Users\\VideoMachine\\anaconda3\\lib\\re.py:289(_compile)\n",
      "  3954442    3.260    0.000  172.941    0.000 C:\\Users\\VideoMachine\\anaconda3\\lib\\genericpath.py:16(exists)\n",
      "  3954441    3.001    0.000   45.891    0.000 C:\\Users\\VideoMachine\\anaconda3\\lib\\ntpath.py:524(abspath)\n",
      "  3954440    2.633    0.000   91.036    0.000 C:\\Users\\VideoMachine\\anaconda3\\lib\\site-packages\\nltk\\data.py:1045(read)\n",
      "  3954441    2.530    0.000   11.652    0.000 C:\\Users\\VideoMachine\\anaconda3\\lib\\re.py:203(sub)\n",
      "  3954440    2.489    0.000    2.489    0.000 {built-in method _codecs.lookup}\n",
      "  3954440    2.432    0.000    3.174    0.000 C:\\Users\\VideoMachine\\anaconda3\\lib\\site-packages\\nltk\\corpus\\reader\\api.py:234(encoding)\n",
      " 15817772    2.393    0.000    2.393    0.000 {method 'replace' of 'str' objects}\n",
      "   136360    2.300    0.000  390.376    0.003 C:\\Users\\VideoMachine\\anaconda3\\lib\\site-packages\\nltk\\tokenize\\simple.py:112(tokenize)\n",
      "  3954444    2.070    0.000    2.070    0.000 {method 'split' of 'str' objects}\n",
      "  3954440    1.994    0.000   23.393    0.000 C:\\Users\\VideoMachine\\anaconda3\\lib\\site-packages\\nltk\\data.py:1361(_incr_decode)\n",
      " 19772212    1.976    0.000    1.976    0.000 {built-in method nt.fspath}\n",
      "  3954440    1.893    0.000   55.832    0.000 C:\\Users\\VideoMachine\\anaconda3\\lib\\site-packages\\nltk\\data.py:1192(close)\n",
      "  3954440    1.884    0.000    1.884    0.000 {method 'startswith' of 'bytes' objects}\n",
      "  3954440    1.816    0.000   57.649    0.000 C:\\Users\\VideoMachine\\anaconda3\\lib\\site-packages\\nltk\\data.py:1166(__exit__)\n",
      "  3954440    1.729    0.000   21.399    0.000 C:\\Users\\VideoMachine\\anaconda3\\lib\\encodings\\utf_8.py:15(decode)\n",
      "  3954440    1.692    0.000    2.745    0.000 C:\\Users\\VideoMachine\\anaconda3\\lib\\site-packages\\nltk\\data.py:1158(__del__)\n",
      "  3954440    1.554    0.000    4.042    0.000 C:\\Users\\VideoMachine\\anaconda3\\lib\\codecs.py:967(getdecoder)\n",
      "   136360    1.410    0.000 1538.677    0.011 C:\\Users\\VideoMachine\\anaconda3\\lib\\site-packages\\nltk\\corpus\\reader\\wordlist.py:18(words)\n",
      "  3954440    1.054    0.000    1.054    0.000 C:\\Users\\VideoMachine\\anaconda3\\lib\\site-packages\\nltk\\data.py:1177(closed)\n",
      "  3954444    0.951    0.000    0.951    0.000 {method 'get' of 'dict' objects}\n",
      "  3954442    0.907    0.000    0.907    0.000 {method 'lstrip' of 'str' objects}\n",
      "  4090800    0.789    0.000    1.055    0.000 C:\\Users\\VideoMachine\\anaconda3\\lib\\site-packages\\nltk\\corpus\\reader\\util.py:449(<genexpr>)\n",
      "  3954440    0.595    0.000    0.595    0.000 {method 'lower' of 'str' objects}\n",
      "  3954522    0.554    0.000    0.554    0.000 {method 'append' of 'list' objects}\n",
      "   136365    0.512    0.000    1.567    0.000 {built-in method builtins.all}\n",
      "  3954440    0.454    0.000    0.454    0.000 C:\\Users\\VideoMachine\\anaconda3\\lib\\site-packages\\nltk\\data.py:1163(__enter__)\n",
      "   136360    0.447    0.000    4.484    0.000 C:\\Users\\VideoMachine\\anaconda3\\lib\\site-packages\\nltk\\corpus\\reader\\util.py:434(concat)\n",
      "   136360    0.394    0.000    0.394    0.000 C:\\Users\\VideoMachine\\anaconda3\\lib\\site-packages\\nltk\\corpus\\reader\\util.py:446(<setcomp>)\n",
      "   136360    0.326    0.000  390.799    0.003 C:\\Users\\VideoMachine\\anaconda3\\lib\\site-packages\\nltk\\tokenize\\simple.py:136(line_tokenize)\n",
      "   136360    0.098    0.000    0.098    0.000 C:\\Users\\VideoMachine\\anaconda3\\lib\\site-packages\\nltk\\tokenize\\simple.py:103(__init__)\n",
      "        1    0.051    0.051 1562.494 1562.494 {pandas._libs.lib.map_infer}\n",
      "    10000    0.022    0.000 1562.443    0.156 C:\\Users\\VideoMachine\\AppData\\Local\\Temp\\ipykernel_11596\\1293406701.py:1(remove_stopwords)\n",
      "        1    0.003    0.003    0.003    0.003 {method 'clear' of 'dict' objects}\n",
      "        2    0.000    0.000    0.000    0.000 {method 'copy' of 'numpy.ndarray' objects}\n",
      "        1    0.000    0.000 1562.495 1562.495 C:\\Users\\VideoMachine\\anaconda3\\lib\\site-packages\\pandas\\core\\apply.py:1068(apply)\n",
      "        1    0.000    0.000    0.000    0.000 {built-in method nt.scandir}\n",
      "       32    0.000    0.000    0.000    0.000 {built-in method builtins.next}\n",
      "        1    0.000    0.000 1562.495 1562.495 C:\\Users\\VideoMachine\\anaconda3\\lib\\site-packages\\pandas\\core\\apply.py:1118(apply_standard)\n",
      "      3/1    0.000    0.000    0.000    0.000 C:\\Users\\VideoMachine\\anaconda3\\lib\\sre_parse.py:493(_parse)\n",
      "        3    0.000    0.000    0.000    0.000 C:\\Users\\VideoMachine\\anaconda3\\lib\\site-packages\\pandas\\core\\series.py:323(__init__)\n",
      "        1    0.000    0.000    0.000    0.000 C:\\Users\\VideoMachine\\anaconda3\\lib\\site-packages\\pandas\\core\\frame.py:3463(__getitem__)\n",
      "        2    0.000    0.000    0.000    0.000 C:\\Users\\VideoMachine\\anaconda3\\lib\\os.py:344(_walk)\n",
      "        1    0.000    0.000    0.000    0.000 C:\\Users\\VideoMachine\\anaconda3\\lib\\site-packages\\pandas\\core\\dtypes\\cast.py:1466(maybe_infer_to_datetimelike)\n",
      "        3    0.000    0.000    0.000    0.000 C:\\Users\\VideoMachine\\anaconda3\\lib\\site-packages\\pandas\\core\\generic.py:5517(__finalize__)\n",
      "        1    0.000    0.000    0.001    0.001 C:\\Users\\VideoMachine\\anaconda3\\lib\\site-packages\\nltk\\data.py:471(find)\n",
      "      5/1    0.000    0.000    0.000    0.000 C:\\Users\\VideoMachine\\anaconda3\\lib\\sre_compile.py:71(_compile)\n",
      "        3    0.000    0.000    0.000    0.000 C:\\Users\\VideoMachine\\anaconda3\\lib\\site-packages\\pandas\\core\\generic.py:239(__init__)\n",
      "        1    0.000    0.000    0.001    0.001 C:\\Users\\VideoMachine\\anaconda3\\lib\\site-packages\\nltk\\corpus\\util.py:68(__load)\n",
      "        1    0.000    0.000    0.000    0.000 C:\\Users\\VideoMachine\\anaconda3\\lib\\site-packages\\pandas\\core\\internals\\managers.py:1016(iget)\n",
      "        4    0.000    0.000    0.000    0.000 C:\\Users\\VideoMachine\\anaconda3\\lib\\site-packages\\pandas\\core\\generic.py:5577(__setattr__)\n",
      "        2    0.000    0.000    0.000    0.000 C:\\Users\\VideoMachine\\anaconda3\\lib\\site-packages\\pandas\\core\\internals\\blocks.py:2041(new_block)\n",
      "       31    0.000    0.000    0.000    0.000 C:\\Users\\VideoMachine\\anaconda3\\lib\\re.py:188(match)\n",
      "        1    0.000    0.000    0.000    0.000 C:\\Users\\VideoMachine\\anaconda3\\lib\\site-packages\\pandas\\core\\frame.py:3923(_get_item_cache)\n",
      "        1    0.000    0.000    0.000    0.000 {built-in method builtins.__build_class__}\n",
      "       31    0.000    0.000    0.000    0.000 {method 'match' of 're.Pattern' objects}\n",
      "        3    0.000    0.000    0.000    0.000 C:\\Users\\VideoMachine\\anaconda3\\lib\\site-packages\\pandas\\core\\indexes\\base.py:4973(__contains__)\n",
      "        4    0.000    0.000    0.000    0.000 C:\\Users\\VideoMachine\\anaconda3\\lib\\site-packages\\pandas\\core\\internals\\blocks.py:1960(maybe_coerce_values)\n",
      "        1    0.000    0.000    0.000    0.000 C:\\Users\\VideoMachine\\anaconda3\\lib\\site-packages\\nltk\\data.py:202(normalize_resource_name)\n",
      "        1    0.000    0.000    0.000    0.000 C:\\Users\\VideoMachine\\anaconda3\\lib\\site-packages\\nltk\\corpus\\reader\\util.py:820(<listcomp>)\n",
      "        2    0.000    0.000    0.000    0.000 C:\\Users\\VideoMachine\\anaconda3\\lib\\site-packages\\numpy\\core\\_ufunc_config.py:32(seterr)\n",
      "        1    0.000    0.000    0.000    0.000 C:\\Users\\VideoMachine\\anaconda3\\lib\\site-packages\\nltk\\corpus\\reader\\util.py:798(find_corpus_fileids)\n",
      "      2/1    0.000    0.000    0.000    0.000 C:\\Users\\VideoMachine\\anaconda3\\lib\\sre_parse.py:435(_parse_sub)\n",
      "        1    0.000    0.000    0.000    0.000 C:\\Users\\VideoMachine\\anaconda3\\lib\\site-packages\\pandas\\core\\internals\\managers.py:1061(iset)\n",
      "        1    0.000    0.000    0.000    0.000 C:\\Users\\VideoMachine\\anaconda3\\lib\\site-packages\\pandas\\core\\generic.py:5749(astype)\n",
      "        1    0.000    0.000    0.000    0.000 C:\\Users\\VideoMachine\\anaconda3\\lib\\site-packages\\pandas\\core\\internals\\blocks.py:560(astype)\n",
      "        1    0.000    0.000    0.000    0.000 C:\\Users\\VideoMachine\\anaconda3\\lib\\site-packages\\pandas\\core\\construction.py:470(sanitize_array)\n",
      "        1    0.000    0.000    0.000    0.000 C:\\Users\\VideoMachine\\anaconda3\\lib\\site-packages\\pandas\\core\\internals\\managers.py:253(apply)\n",
      "        1    0.000    0.000    0.000    0.000 C:\\Users\\VideoMachine\\anaconda3\\lib\\site-packages\\pandas\\core\\frame.py:3906(_box_col_values)\n",
      "        3    0.000    0.000    0.000    0.000 C:\\Users\\VideoMachine\\anaconda3\\lib\\site-packages\\pandas\\core\\internals\\blocks.py:1989(get_block_type)\n",
      "       30    0.000    0.000    0.000    0.000 C:\\Users\\VideoMachine\\anaconda3\\lib\\sre_parse.py:164(__getitem__)\n",
      "        1    0.000    0.000    0.000    0.000 C:\\Users\\VideoMachine\\anaconda3\\lib\\site-packages\\nltk\\corpus\\reader\\api.py:41(__init__)\n",
      "        4    0.000    0.000    0.000    0.000 C:\\Users\\VideoMachine\\anaconda3\\lib\\site-packages\\pandas\\core\\series.py:640(name)\n",
      "        5    0.000    0.000    0.000    0.000 C:\\Users\\VideoMachine\\anaconda3\\lib\\genericpath.py:27(isfile)\n",
      "        1    0.000    0.000    0.003    0.003 C:\\Users\\VideoMachine\\anaconda3\\lib\\site-packages\\pandas\\core\\frame.py:3797(_set_item_mgr)\n",
      "        1    0.000    0.000    0.000    0.000 C:\\Users\\VideoMachine\\anaconda3\\lib\\sre_compile.py:759(compile)\n",
      "        1    0.000    0.000    0.000    0.000 C:\\Users\\VideoMachine\\anaconda3\\lib\\nturl2path.py:8(url2pathname)\n",
      "        1    0.000    0.000    0.003    0.003 C:\\Users\\VideoMachine\\anaconda3\\lib\\site-packages\\pandas\\core\\frame.py:3630(__setitem__)\n",
      "        1    0.000    0.000    0.000    0.000 C:\\Users\\VideoMachine\\anaconda3\\lib\\site-packages\\numpy\\core\\numeric.py:289(full)\n",
      "       16    0.000    0.000    0.000    0.000 C:\\Users\\VideoMachine\\anaconda3\\lib\\sre_parse.py:233(__next)\n",
      "        2    0.000    0.000    0.000    0.000 C:\\Users\\VideoMachine\\anaconda3\\lib\\site-packages\\numpy\\core\\_ufunc_config.py:131(geterr)\n",
      "        1    0.000    0.000    0.000    0.000 C:\\Users\\VideoMachine\\anaconda3\\lib\\site-packages\\pandas\\core\\dtypes\\cast.py:1246(astype_array_safe)\n",
      "        1    0.000    0.000    0.000    0.000 C:\\Users\\VideoMachine\\anaconda3\\lib\\site-packages\\pandas\\core\\dtypes\\cast.py:1199(astype_array)\n",
      "        3    0.000    0.000    0.000    0.000 C:\\Users\\VideoMachine\\anaconda3\\lib\\site-packages\\pandas\\core\\flags.py:47(__init__)\n",
      "        2    0.000    0.000    0.000    0.000 C:\\Users\\VideoMachine\\anaconda3\\lib\\site-packages\\pandas\\core\\indexes\\base.py:3577(get_loc)\n",
      "        1    0.000    0.000    0.000    0.000 C:\\Users\\VideoMachine\\anaconda3\\lib\\ntpath.py:180(split)\n",
      "        1    0.000    0.000    0.000    0.000 C:\\Users\\VideoMachine\\anaconda3\\lib\\site-packages\\nltk\\corpus\\util.py:139(_make_bound_method)\n",
      "      2/1    0.000    0.000    0.000    0.000 C:\\Users\\VideoMachine\\anaconda3\\lib\\sre_parse.py:174(getwidth)\n",
      "        7    0.000    0.000    0.000    0.000 C:\\Users\\VideoMachine\\anaconda3\\lib\\site-packages\\pandas\\core\\indexes\\base.py:884(__len__)\n",
      "        1    0.000    0.000    0.000    0.000 C:\\Users\\VideoMachine\\anaconda3\\lib\\site-packages\\pandas\\core\\internals\\managers.py:1196(_iset_single)\n",
      "       19    0.000    0.000    0.000    0.000 {built-in method builtins.getattr}\n",
      "        1    0.000    0.000    0.000    0.000 {built-in method numpy.core._multiarray_umath.implement_array_function}\n",
      "        3    0.000    0.000    0.000    0.000 C:\\Users\\VideoMachine\\anaconda3\\lib\\site-packages\\pandas\\core\\dtypes\\common.py:1429(is_extension_array_dtype)\n",
      "        2    0.000    0.000    0.000    0.000 C:\\Users\\VideoMachine\\anaconda3\\lib\\site-packages\\pandas\\core\\internals\\blocks.py:2055(check_ndim)\n",
      "        2    0.000    0.000    0.000    0.000 C:\\Users\\VideoMachine\\anaconda3\\lib\\site-packages\\pandas\\core\\internals\\managers.py:1848(internal_values)\n",
      "        2    0.000    0.000    0.000    0.000 C:\\Users\\VideoMachine\\anaconda3\\lib\\site-packages\\pandas\\core\\indexes\\base.py:5023(__getitem__)\n",
      "        1    0.000    0.000    0.000    0.000 C:\\Users\\VideoMachine\\anaconda3\\lib\\site-packages\\pandas\\core\\indexing.py:2318(convert_to_index_sliceable)\n",
      "        5    0.000    0.000    0.000    0.000 C:\\Users\\VideoMachine\\anaconda3\\lib\\genericpath.py:39(isdir)\n",
      "        2    0.000    0.000    0.000    0.000 {method 'get_loc' of 'pandas._libs.index.IndexEngine' objects}\n",
      "        1    0.000    0.000    0.000    0.000 C:\\Users\\VideoMachine\\anaconda3\\lib\\sre_parse.py:939(parse)\n",
      "        8    0.000    0.000    0.000    0.000 C:\\Users\\VideoMachine\\anaconda3\\lib\\site-packages\\pandas\\core\\dtypes\\generic.py:43(_check)\n",
      "        7    0.000    0.000    0.000    0.000 C:\\Users\\VideoMachine\\anaconda3\\lib\\site-packages\\pandas\\core\\dtypes\\inference.py:321(is_hashable)\n",
      "        1    0.000    0.000 1562.495 1562.495 C:\\Users\\VideoMachine\\anaconda3\\lib\\site-packages\\pandas\\core\\series.py:4323(apply)\n",
      "        4    0.000    0.000    0.000    0.000 {built-in method _abc._abc_instancecheck}\n",
      "        1    0.000    0.000    0.000    0.000 C:\\Users\\VideoMachine\\anaconda3\\lib\\sre_parse.py:1056(expand_template)\n",
      "        1    0.000    0.000    0.000    0.000 C:\\Users\\VideoMachine\\anaconda3\\lib\\site-packages\\pandas\\core\\frame.py:3411(_ixs)\n",
      "        1    0.000    0.000    0.000    0.000 C:\\Users\\VideoMachine\\anaconda3\\lib\\site-packages\\pandas\\core\\internals\\blocks.py:252(make_block)\n",
      "        3    0.000    0.000    0.000    0.000 C:\\Users\\VideoMachine\\anaconda3\\lib\\site-packages\\pandas\\core\\internals\\managers.py:1700(__init__)\n",
      "        1    0.000    0.000    0.003    0.003 C:\\Users\\VideoMachine\\anaconda3\\lib\\site-packages\\pandas\\core\\frame.py:3790(_iset_item_mgr)\n",
      "        4    0.000    0.000    0.000    0.000 C:\\Users\\VideoMachine\\anaconda3\\lib\\site-packages\\pandas\\core\\construction.py:438(ensure_wrapped_if_datetimelike)\n",
      "        1    0.000    0.000    0.003    0.003 C:\\Users\\VideoMachine\\anaconda3\\lib\\site-packages\\pandas\\core\\frame.py:3822(_set_item)\n",
      "        4    0.000    0.000    0.000    0.000 C:\\Users\\VideoMachine\\anaconda3\\lib\\site-packages\\pandas\\core\\series.py:590(name)\n",
      "        3    0.000    0.000    0.000    0.000 C:\\Users\\VideoMachine\\anaconda3\\lib\\site-packages\\pandas\\core\\flags.py:83(allows_duplicate_labels)\n",
      "        1    0.000    0.000    0.000    0.000 C:\\Users\\VideoMachine\\anaconda3\\lib\\site-packages\\pandas\\core\\construction.py:695(_try_cast)\n",
      "        1    0.000    0.000    0.000    0.000 C:\\Users\\VideoMachine\\anaconda3\\lib\\cProfile.py:117(__exit__)\n",
      "        1    0.000    0.000    0.000    0.000 C:\\Users\\VideoMachine\\anaconda3\\lib\\site-packages\\pandas\\core\\dtypes\\common.py:1747(pandas_dtype)\n",
      "        1    0.000    0.000    0.000    0.000 C:\\Users\\VideoMachine\\anaconda3\\lib\\site-packages\\pandas\\core\\internals\\managers.py:1731(from_array)\n",
      "        1    0.000    0.000    0.000    0.000 C:\\Users\\VideoMachine\\anaconda3\\lib\\site-packages\\pandas\\core\\internals\\managers.py:1837(dtype)\n",
      "        1    0.000    0.000    0.000    0.000 C:\\Users\\VideoMachine\\anaconda3\\lib\\sre_parse.py:355(_escape)\n",
      "        1    0.000    0.000    0.000    0.000 C:\\Users\\VideoMachine\\anaconda3\\lib\\site-packages\\pandas\\core\\internals\\blocks.py:2119(extend_blocks)\n",
      "        2    0.000    0.000    0.000    0.000 C:\\Users\\VideoMachine\\anaconda3\\lib\\site-packages\\pandas\\core\\generic.py:5561(__getattr__)\n",
      "       12    0.000    0.000    0.000    0.000 C:\\Users\\VideoMachine\\anaconda3\\lib\\sre_parse.py:254(get)\n",
      "        1    0.000    0.000    0.000    0.000 C:\\Users\\VideoMachine\\anaconda3\\lib\\site-packages\\numpy\\core\\_ufunc_config.py:434(__exit__)\n",
      "        1    0.000    0.000    0.000    0.000 C:\\Users\\VideoMachine\\anaconda3\\lib\\site-packages\\pandas\\core\\frame.py:1413(__len__)\n",
      "        5    0.000    0.000    0.000    0.000 {pandas._libs.lib.is_list_like}\n",
      "        8    0.000    0.000    0.000    0.000 C:\\Users\\VideoMachine\\anaconda3\\lib\\site-packages\\pandas\\core\\dtypes\\common.py:1740(<genexpr>)\n",
      "        2    0.000    0.000    0.000    0.000 C:\\Users\\VideoMachine\\anaconda3\\lib\\site-packages\\pandas\\core\\indexes\\base.py:6284(_maybe_cast_indexer)\n",
      "        4    0.000    0.000    0.000    0.000 C:\\Users\\VideoMachine\\anaconda3\\lib\\site-packages\\pandas\\core\\dtypes\\common.py:1721(validate_all_hashable)\n",
      "       30    0.000    0.000    0.000    0.000 {method 'is_dir' of 'nt.DirEntry' objects}\n",
      "        1    0.000    0.000    0.000    0.000 C:\\Users\\VideoMachine\\anaconda3\\lib\\enum.py:977(__and__)\n",
      "        1    0.000    0.000    0.000    0.000 C:\\Users\\VideoMachine\\anaconda3\\lib\\site-packages\\pandas\\core\\internals\\managers.py:1722(from_blocks)\n",
      "        4    0.000    0.000    0.000    0.000 C:\\Users\\VideoMachine\\anaconda3\\lib\\site-packages\\pandas\\core\\common.py:160(cast_scalar_indexer)\n",
      "        1    0.000    0.000    0.000    0.000 C:\\Users\\VideoMachine\\anaconda3\\lib\\site-packages\\pandas\\core\\frame.py:10986(_reindex_for_setitem)\n",
      "        1    0.000    0.000    0.000    0.000 C:\\Users\\VideoMachine\\anaconda3\\lib\\site-packages\\pandas\\core\\internals\\blocks.py:2135(ensure_block_shape)\n",
      "        1    0.000    0.000    0.000    0.000 C:\\Users\\VideoMachine\\anaconda3\\lib\\site-packages\\pandas\\core\\apply.py:1049(__init__)\n",
      "        1    0.000    0.000    0.000    0.000 {built-in method numpy.asarray}\n",
      "        1    0.000    0.000    0.000    0.000 C:\\Users\\VideoMachine\\anaconda3\\lib\\ntpath.py:61(isabs)\n",
      "        1    0.000    0.000    0.000    0.000 C:\\Users\\VideoMachine\\anaconda3\\lib\\site-packages\\pandas\\core\\dtypes\\common.py:348(is_datetime64tz_dtype)\n",
      "        1    0.000    0.000    0.000    0.000 C:\\Users\\VideoMachine\\anaconda3\\lib\\site-packages\\pandas\\core\\series.py:542(_set_axis)\n",
      "        2    0.000    0.000    0.000    0.000 {built-in method _abc._abc_subclasscheck}\n",
      "        1    0.000    0.000    0.000    0.000 <__array_function__ internals>:2(copyto)\n",
      "        1    0.000    0.000    0.000    0.000 C:\\Users\\VideoMachine\\anaconda3\\lib\\site-packages\\pandas\\core\\indexes\\base.py:7082(maybe_extract_name)\n",
      "        1    0.000    0.000    0.000    0.000 C:\\Users\\VideoMachine\\anaconda3\\lib\\site-packages\\pandas\\core\\internals\\base.py:53(shape)\n",
      "        1    0.000    0.000    0.000    0.000 C:\\Users\\VideoMachine\\anaconda3\\lib\\site-packages\\pandas\\_config\\config.py:109(_get_single_key)\n",
      "        1    0.000    0.000    0.003    0.003 C:\\Users\\VideoMachine\\anaconda3\\lib\\site-packages\\pandas\\core\\frame.py:3920(_clear_item_cache)\n",
      "        1    0.000    0.000    0.000    0.000 C:\\Users\\VideoMachine\\anaconda3\\lib\\site-packages\\numpy\\core\\_ufunc_config.py:429(__enter__)\n",
      "        2    0.000    0.000    0.000    0.000 C:\\Users\\VideoMachine\\anaconda3\\lib\\site-packages\\pandas\\_config\\config.py:603(_get_deprecated_option)\n",
      "        1    0.000    0.000    0.000    0.000 C:\\Users\\VideoMachine\\anaconda3\\lib\\site-packages\\pandas\\core\\indexing.py:2481(check_deprecated_indexers)\n",
      "        2    0.000    0.000    0.000    0.000 C:\\Users\\VideoMachine\\anaconda3\\lib\\site-packages\\pandas\\core\\series.py:687(_values)\n",
      "        2    0.000    0.000    0.000    0.000 {built-in method numpy.seterrobj}\n",
      "        1    0.000    0.000    0.000    0.000 C:\\Users\\VideoMachine\\anaconda3\\lib\\sre_compile.py:536(_compile_info)\n",
      "        9    0.000    0.000    0.000    0.000 C:\\Users\\VideoMachine\\anaconda3\\lib\\sre_parse.py:160(__len__)\n",
      "       11    0.000    0.000    0.000    0.000 C:\\Users\\VideoMachine\\anaconda3\\lib\\sre_parse.py:172(append)\n",
      "        4    0.000    0.000    0.000    0.000 C:\\Users\\VideoMachine\\anaconda3\\lib\\site-packages\\pandas\\core\\dtypes\\common.py:1416(is_1d_only_ea_dtype)\n",
      "        2    0.000    0.000    0.000    0.000 C:\\Users\\VideoMachine\\anaconda3\\lib\\site-packages\\pandas\\core\\dtypes\\base.py:465(find)\n",
      "        1    0.000    0.000    0.000    0.000 C:\\Users\\VideoMachine\\anaconda3\\lib\\site-packages\\pandas\\core\\internals\\blocks.py:358(iget)\n",
      "        4    0.000    0.000    0.000    0.000 C:\\Users\\VideoMachine\\anaconda3\\lib\\abc.py:117(__instancecheck__)\n",
      "        2    0.000    0.000    0.000    0.000 C:\\Users\\VideoMachine\\anaconda3\\lib\\site-packages\\pandas\\core\\indexes\\base.py:2344(is_floating)\n",
      "        1    0.000    0.000    0.000    0.000 C:\\Users\\VideoMachine\\anaconda3\\lib\\os.py:282(walk)\n",
      "        1    0.000    0.000    0.000    0.000 C:\\Users\\VideoMachine\\anaconda3\\lib\\re.py:325(_subx)\n",
      "        1    0.000    0.000    0.000    0.000 C:\\Users\\VideoMachine\\anaconda3\\lib\\sre_parse.py:224(__init__)\n",
      "        1    0.000    0.000    0.000    0.000 C:\\Users\\VideoMachine\\anaconda3\\lib\\site-packages\\pandas\\core\\internals\\managers.py:418(astype)\n",
      "        2    0.000    0.000    0.000    0.000 C:\\Users\\VideoMachine\\anaconda3\\lib\\enum.py:358(__call__)\n",
      "        1    0.000    0.000    0.000    0.000 C:\\Users\\VideoMachine\\anaconda3\\lib\\sre_compile.py:598(_code)\n",
      "        1    0.000    0.000    0.001    0.001 C:\\Users\\VideoMachine\\anaconda3\\lib\\site-packages\\nltk\\corpus\\util.py:112(__getattr__)\n",
      "        2    0.000    0.000    0.000    0.000 C:\\Users\\VideoMachine\\anaconda3\\lib\\site-packages\\pandas\\core\\common.py:346(apply_if_callable)\n",
      "        4    0.000    0.000    0.000    0.000 {built-in method numpy.geterrobj}\n",
      "        1    0.000    0.000    0.000    0.000 C:\\Users\\VideoMachine\\anaconda3\\lib\\re.py:331(filter)\n",
      "        4    0.000    0.000    0.000    0.000 C:\\Users\\VideoMachine\\anaconda3\\lib\\sre_parse.py:286(tell)\n",
      "        1    0.000    0.000    0.000    0.000 C:\\Users\\VideoMachine\\anaconda3\\lib\\site-packages\\pandas\\core\\dtypes\\common.py:581(is_dtype_equal)\n",
      "        2    0.000    0.000    0.000    0.000 C:\\Users\\VideoMachine\\anaconda3\\lib\\enum.py:670(__new__)\n",
      "        5    0.000    0.000    0.000    0.000 C:\\Users\\VideoMachine\\anaconda3\\lib\\sre_parse.py:111(__init__)\n",
      "        1    0.000    0.000    0.000    0.000 C:\\Users\\VideoMachine\\anaconda3\\lib\\site-packages\\pandas\\_config\\config.py:127(_get_option)\n",
      "        1    0.000    0.000    0.000    0.000 C:\\Users\\VideoMachine\\anaconda3\\lib\\site-packages\\pandas\\core\\dtypes\\inference.py:262(is_dict_like)\n",
      "        1    0.000    0.000    0.000    0.000 C:\\Users\\VideoMachine\\anaconda3\\lib\\site-packages\\pandas\\core\\apply.py:108(__init__)\n",
      "        1    0.000    0.000    0.000    0.000 C:\\Users\\VideoMachine\\anaconda3\\lib\\site-packages\\pandas\\core\\frame.py:4515(_sanitize_column)\n",
      "        3    0.000    0.000    0.000    0.000 C:\\Users\\VideoMachine\\anaconda3\\lib\\site-packages\\pandas\\core\\generic.py:328(attrs)\n",
      "        1    0.000    0.000    0.000    0.000 C:\\Users\\VideoMachine\\anaconda3\\lib\\site-packages\\pandas\\_config\\config.py:589(_get_root)\n",
      "        1    0.000    0.000    0.000    0.000 {method 'reshape' of 'numpy.ndarray' objects}\n",
      "        1    0.000    0.000    0.000    0.000 C:\\Users\\VideoMachine\\anaconda3\\lib\\site-packages\\nltk\\corpus\\reader\\util.py:834(_path_from)\n",
      "        1    0.000    0.000    0.000    0.000 C:\\Users\\VideoMachine\\anaconda3\\lib\\site-packages\\pandas\\_config\\config.py:255(__call__)\n",
      "        1    0.000    0.000    0.000    0.000 C:\\Users\\VideoMachine\\anaconda3\\lib\\re.py:198(search)\n",
      "        6    0.000    0.000    0.000    0.000 C:\\Users\\VideoMachine\\anaconda3\\lib\\sre_parse.py:249(match)\n",
      "        1    0.000    0.000    0.000    0.000 C:\\Users\\VideoMachine\\anaconda3\\lib\\site-packages\\pandas\\core\\dtypes\\base.py:286(is_dtype)\n",
      "        1    0.000    0.000    0.000    0.000 C:\\Users\\VideoMachine\\anaconda3\\lib\\site-packages\\pandas\\core\\construction.py:627(_sanitize_ndim)\n",
      "        1    0.000    0.000    0.000    0.000 {pandas._libs.lib.infer_datetimelike_array}\n",
      "        1    0.000    0.000    0.000    0.000 {method 'search' of 're.Pattern' objects}\n",
      "       10    0.000    0.000    0.000    0.000 {built-in method builtins.hash}\n",
      "        1    0.000    0.000    0.000    0.000 C:\\Users\\VideoMachine\\anaconda3\\lib\\sre_compile.py:423(_simple)\n",
      "        6    0.000    0.000    0.000    0.000 C:\\Users\\VideoMachine\\anaconda3\\lib\\site-packages\\pandas\\core\\generic.py:349(flags)\n",
      "        1    0.000    0.000    0.000    0.000 C:\\Users\\VideoMachine\\anaconda3\\lib\\site-packages\\pandas\\core\\series.py:1238(_set_as_cached)\n",
      "        8    0.000    0.000    0.000    0.000 {built-in method builtins.issubclass}\n",
      "        2    0.000    0.000    0.000    0.000 C:\\Users\\VideoMachine\\anaconda3\\lib\\sre_compile.py:595(isstring)\n",
      "        1    0.000    0.000    0.000    0.000 C:\\Users\\VideoMachine\\anaconda3\\lib\\site-packages\\pandas\\_config\\config.py:571(_select_options)\n",
      "        1    0.000    0.000    0.000    0.000 C:\\Users\\VideoMachine\\anaconda3\\lib\\site-packages\\pandas\\core\\construction.py:802(is_empty_data)\n",
      "        3    0.000    0.000    0.000    0.000 C:\\Users\\VideoMachine\\anaconda3\\lib\\site-packages\\pandas\\core\\flags.py:51(allows_duplicate_labels)\n",
      "        1    0.000    0.000    0.000    0.000 {built-in method numpy.empty}\n",
      "        1    0.000    0.000    0.000    0.000 C:\\Users\\VideoMachine\\anaconda3\\lib\\site-packages\\pandas\\core\\construction.py:379(extract_array)\n",
      "        1    0.000    0.000    0.000    0.000 C:\\Users\\VideoMachine\\anaconda3\\lib\\site-packages\\pandas\\core\\indexes\\base.py:5178(equals)\n",
      "        1    0.000    0.000    0.000    0.000 C:\\Users\\VideoMachine\\anaconda3\\lib\\site-packages\\pandas\\core\\internals\\base.py:45(__len__)\n",
      "        2    0.000    0.000    0.000    0.000 C:\\Users\\VideoMachine\\anaconda3\\lib\\site-packages\\pandas\\core\\series.py:523(_constructor)\n",
      "        1    0.000    0.000    0.000    0.000 C:\\Users\\VideoMachine\\anaconda3\\lib\\site-packages\\pandas\\core\\generic.py:3948(_check_setitem_copy)\n",
      "        1    0.000    0.000    0.000    0.000 C:\\Users\\VideoMachine\\anaconda3\\lib\\site-packages\\pandas\\core\\internals\\blocks.py:2030(new_block_2d)\n",
      "        3    0.000    0.000    0.000    0.000 C:\\Users\\VideoMachine\\anaconda3\\lib\\site-packages\\pandas\\core\\internals\\managers.py:1792(_block)\n",
      "        2    0.000    0.000    0.000    0.000 C:\\Users\\VideoMachine\\anaconda3\\lib\\abc.py:121(__subclasscheck__)\n",
      "        1    0.000    0.000    0.000    0.000 C:\\Users\\VideoMachine\\anaconda3\\lib\\sre_parse.py:76(__init__)\n",
      "        1    0.000    0.000    0.000    0.000 C:\\Users\\VideoMachine\\anaconda3\\lib\\sre_parse.py:923(fix_flags)\n",
      "        2    0.000    0.000    0.000    0.000 C:\\Users\\VideoMachine\\anaconda3\\lib\\site-packages\\pandas\\core\\internals\\blocks.py:350(shape)\n",
      "        1    0.000    0.000    0.000    0.000 C:\\Users\\VideoMachine\\anaconda3\\lib\\site-packages\\pandas\\core\\internals\\blocks.py:354(dtype)\n",
      "        2    0.000    0.000    0.000    0.000 {built-in method builtins.hasattr}\n",
      "        1    0.000    0.000    0.000    0.000 {built-in method builtins.sorted}\n",
      "        2    0.000    0.000    0.000    0.000 C:\\Users\\VideoMachine\\anaconda3\\lib\\ntpath.py:34(_get_bothseps)\n",
      "        2    0.000    0.000    0.000    0.000 C:\\Users\\VideoMachine\\anaconda3\\lib\\site-packages\\pandas\\core\\dtypes\\inference.py:288(<genexpr>)\n",
      "        2    0.000    0.000    0.000    0.000 C:\\Users\\VideoMachine\\anaconda3\\lib\\sre_parse.py:81(groups)\n",
      "        1    0.000    0.000    0.000    0.000 C:\\Users\\VideoMachine\\anaconda3\\lib\\site-packages\\pandas\\_config\\config.py:642(_warn_if_deprecated)\n",
      "        2    0.000    0.000    0.000    0.000 C:\\Users\\VideoMachine\\anaconda3\\lib\\site-packages\\pandas\\core\\internals\\managers.py:156(blknos)\n",
      "        1    0.000    0.000    0.000    0.000 C:\\Users\\VideoMachine\\anaconda3\\lib\\site-packages\\pandas\\core\\series.py:575(dtype)\n",
      "        4    0.000    0.000    0.000    0.000 {built-in method builtins.min}\n",
      "        1    0.000    0.000    0.000    0.000 C:\\Users\\VideoMachine\\anaconda3\\lib\\urllib\\parse.py:644(unquote)\n",
      "        3    0.000    0.000    0.000    0.000 C:\\Users\\VideoMachine\\anaconda3\\lib\\site-packages\\pandas\\core\\internals\\base.py:55(<genexpr>)\n",
      "        1    0.000    0.000    0.000    0.000 C:\\Users\\VideoMachine\\anaconda3\\lib\\site-packages\\numpy\\core\\_ufunc_config.py:425(__init__)\n",
      "        2    0.000    0.000    0.000    0.000 C:\\Users\\VideoMachine\\anaconda3\\lib\\site-packages\\pandas\\core\\dtypes\\common.py:1552(get_dtype)\n",
      "        1    0.000    0.000    0.000    0.000 {built-in method _sre.compile}\n",
      "        2    0.000    0.000    0.000    0.000 {method 'endswith' of 'str' objects}\n",
      "        7    0.000    0.000    0.000    0.000 {built-in method builtins.ord}\n",
      "        1    0.000    0.000    0.000    0.000 C:\\Users\\VideoMachine\\anaconda3\\lib\\site-packages\\nltk\\corpus\\util.py:144(Foo)\n",
      "        1    0.000    0.000    0.000    0.000 C:\\Users\\VideoMachine\\anaconda3\\lib\\site-packages\\pandas\\core\\common.py:552(require_length_match)\n",
      "        4    0.000    0.000    0.000    0.000 {pandas._libs.lib.is_float}\n",
      "        4    0.000    0.000    0.000    0.000 C:\\Users\\VideoMachine\\anaconda3\\lib\\typing.py:1375(cast)\n",
      "        1    0.000    0.000    0.000    0.000 C:\\Users\\VideoMachine\\anaconda3\\lib\\inspect.py:73(isclass)\n",
      "        1    0.000    0.000    0.000    0.000 C:\\Users\\VideoMachine\\anaconda3\\lib\\site-packages\\pandas\\core\\construction.py:664(_sanitize_str_dtypes)\n",
      "        1    0.000    0.000    0.000    0.000 C:\\Users\\VideoMachine\\anaconda3\\lib\\site-packages\\pandas\\core\\generic.py:636(_info_axis)\n",
      "        1    0.000    0.000    0.000    0.000 {method 'disable' of '_lsprof.Profiler' objects}\n",
      "        2    0.000    0.000    0.000    0.000 C:\\Users\\VideoMachine\\anaconda3\\lib\\site-packages\\nltk\\data.py:318(path)\n",
      "        1    0.000    0.000    0.000    0.000 C:\\Users\\VideoMachine\\anaconda3\\lib\\site-packages\\pandas\\core\\series.py:743(__len__)\n",
      "        3    0.000    0.000    0.000    0.000 {pandas._libs.lib.is_integer}\n",
      "        2    0.000    0.000    0.000    0.000 {method 'group' of 're.Match' objects}\n",
      "        1    0.000    0.000    0.000    0.000 C:\\Users\\VideoMachine\\anaconda3\\lib\\site-packages\\pandas\\core\\construction.py:684(_maybe_repeat)\n",
      "        1    0.000    0.000    0.000    0.000 C:\\Users\\VideoMachine\\anaconda3\\lib\\site-packages\\pandas\\core\\indexes\\base.py:6987(ensure_index)\n",
      "        1    0.000    0.000    0.000    0.000 C:\\Users\\VideoMachine\\anaconda3\\lib\\site-packages\\pandas\\core\\frame.py:3883(_ensure_valid_index)\n",
      "        1    0.000    0.000    0.000    0.000 {pandas._libs.lib.item_from_zerodim}\n",
      "        3    0.000    0.000    0.000    0.000 {built-in method builtins.callable}\n",
      "        1    0.000    0.000    0.000    0.000 C:\\Users\\VideoMachine\\anaconda3\\lib\\site-packages\\numpy\\core\\multiarray.py:1071(copyto)\n",
      "        1    0.000    0.000    0.000    0.000 C:\\Users\\VideoMachine\\anaconda3\\lib\\site-packages\\pandas\\_config\\config.py:630(_translate_key)\n",
      "        2    0.000    0.000    0.000    0.000 C:\\Users\\VideoMachine\\anaconda3\\lib\\site-packages\\pandas\\core\\base.py:326(ndim)\n",
      "        1    0.000    0.000    0.000    0.000 C:\\Users\\VideoMachine\\anaconda3\\lib\\site-packages\\pandas\\core\\indexes\\base.py:803(is_)\n",
      "        1    0.000    0.000    0.000    0.000 {pandas._libs.algos.ensure_object}\n",
      "        1    0.000    0.000    0.000    0.000 {built-in method numpy.array}\n",
      "        1    0.000    0.000    0.000    0.000 C:\\Users\\VideoMachine\\anaconda3\\lib\\site-packages\\pandas\\core\\internals\\managers.py:172(blklocs)\n",
      "        1    0.000    0.000    0.000    0.000 C:\\Users\\VideoMachine\\anaconda3\\lib\\site-packages\\pandas\\core\\internals\\managers.py:222(items)\n",
      "        1    0.000    0.000    0.000    0.000 {method 'groups' of 're.Match' objects}\n",
      "        1    0.000    0.000    0.000    0.000 {built-in method _stat.S_ISREG}\n",
      "        1    0.000    0.000    0.000    0.000 C:\\Users\\VideoMachine\\anaconda3\\lib\\sre_parse.py:168(__setitem__)\n",
      "        1    0.000    0.000    0.000    0.000 C:\\Users\\VideoMachine\\anaconda3\\lib\\site-packages\\nltk\\corpus\\reader\\util.py:819(<genexpr>)\n",
      "        1    0.000    0.000    0.000    0.000 C:\\Users\\VideoMachine\\anaconda3\\lib\\site-packages\\pandas\\core\\indexes\\numeric.py:331(_is_all_dates)\n",
      "        1    0.000    0.000    0.000    0.000 C:\\Users\\VideoMachine\\anaconda3\\lib\\site-packages\\pandas\\core\\internals\\managers.py:282(<dictcomp>)\n",
      "        1    0.000    0.000    0.000    0.000 {pandas._libs.lib.is_iterator}\n",
      "        1    0.000    0.000    0.000    0.000 {method 'extend' of 'list' objects}\n",
      "        1    0.000    0.000    0.000    0.000 {built-in method builtins.iter}\n",
      "        1    0.000    0.000    0.000    0.000 {built-in method _stat.S_ISDIR}\n",
      "        1    0.000    0.000    0.000    0.000 {method '__exit__' of 'nt.ScandirIterator' objects}\n",
      "        1    0.000    0.000    0.000    0.000 {method 'items' of 'dict' objects}\n",
      "        1    0.000    0.000    0.000    0.000 {built-in method sys.audit}\n",
      "\n",
      "\n"
     ]
    },
    {
     "data": {
      "text/plain": [
       "<pstats.Stats at 0x263b049ef10>"
      ]
     },
     "execution_count": 12,
     "metadata": {},
     "output_type": "execute_result"
    }
   ],
   "source": [
    "import pstats\n",
    "\n",
    "stats = pstats.Stats(pr)\n",
    "stats.sort_stats(pstats.SortKey.TIME)\n",
    "stats.print_stats()"
   ]
  },
  {
   "cell_type": "code",
   "execution_count": 29,
   "metadata": {
    "ExecuteTime": {
     "end_time": "2022-10-26T08:08:21.316133Z",
     "start_time": "2022-10-26T08:08:21.307125Z"
    }
   },
   "outputs": [
    {
     "data": {
      "text/html": [
       "<div>\n",
       "<style scoped>\n",
       "    .dataframe tbody tr th:only-of-type {\n",
       "        vertical-align: middle;\n",
       "    }\n",
       "\n",
       "    .dataframe tbody tr th {\n",
       "        vertical-align: top;\n",
       "    }\n",
       "\n",
       "    .dataframe thead th {\n",
       "        text-align: right;\n",
       "    }\n",
       "</style>\n",
       "<table border=\"1\" class=\"dataframe\">\n",
       "  <thead>\n",
       "    <tr style=\"text-align: right;\">\n",
       "      <th></th>\n",
       "      <th>target</th>\n",
       "      <th>id</th>\n",
       "      <th>date</th>\n",
       "      <th>flag</th>\n",
       "      <th>user</th>\n",
       "      <th>text</th>\n",
       "      <th>text_processed</th>\n",
       "    </tr>\n",
       "  </thead>\n",
       "  <tbody>\n",
       "    <tr>\n",
       "      <th>566098</th>\n",
       "      <td>0</td>\n",
       "      <td>2206726787</td>\n",
       "      <td>Wed Jun 17 06:58:16 PDT 2009</td>\n",
       "      <td>NO_QUERY</td>\n",
       "      <td>hannah106</td>\n",
       "      <td>ipod is being gay. will not download the games</td>\n",
       "      <td>[ipod, gay, download, game]</td>\n",
       "    </tr>\n",
       "    <tr>\n",
       "      <th>206968</th>\n",
       "      <td>0</td>\n",
       "      <td>1973365176</td>\n",
       "      <td>Sat May 30 11:00:30 PDT 2009</td>\n",
       "      <td>NO_QUERY</td>\n",
       "      <td>Adam__Carter</td>\n",
       "      <td>shaheen = same song</td>\n",
       "      <td>[shaheen, song]</td>\n",
       "    </tr>\n",
       "    <tr>\n",
       "      <th>1219085</th>\n",
       "      <td>4</td>\n",
       "      <td>1989901070</td>\n",
       "      <td>Mon Jun 01 03:12:20 PDT 2009</td>\n",
       "      <td>NO_QUERY</td>\n",
       "      <td>roskelld</td>\n",
       "      <td>@pinkzibra Looking forward to that again. I've...</td>\n",
       "      <td>[pinkzibra, forward, started, show, season, we...</td>\n",
       "    </tr>\n",
       "  </tbody>\n",
       "</table>\n",
       "</div>"
      ],
      "text/plain": [
       "         target          id                          date      flag  \\\n",
       "566098        0  2206726787  Wed Jun 17 06:58:16 PDT 2009  NO_QUERY   \n",
       "206968        0  1973365176  Sat May 30 11:00:30 PDT 2009  NO_QUERY   \n",
       "1219085       4  1989901070  Mon Jun 01 03:12:20 PDT 2009  NO_QUERY   \n",
       "\n",
       "                 user                                               text  \\\n",
       "566098      hannah106    ipod is being gay. will not download the games    \n",
       "206968   Adam__Carter                               shaheen = same song    \n",
       "1219085      roskelld  @pinkzibra Looking forward to that again. I've...   \n",
       "\n",
       "                                            text_processed  \n",
       "566098                         [ipod, gay, download, game]  \n",
       "206968                                     [shaheen, song]  \n",
       "1219085  [pinkzibra, forward, started, show, season, we...  "
      ]
     },
     "execution_count": 29,
     "metadata": {},
     "output_type": "execute_result"
    }
   ],
   "source": [
    "data.head(3)"
   ]
  },
  {
   "cell_type": "code",
   "execution_count": 30,
   "metadata": {
    "ExecuteTime": {
     "end_time": "2022-10-26T08:08:36.579293Z",
     "start_time": "2022-10-26T08:08:36.563279Z"
    }
   },
   "outputs": [
    {
     "data": {
      "text/plain": [
       "566098                           [ipod, gay, download, game]\n",
       "206968                                       [shaheen, song]\n",
       "1219085    [pinkzibra, forward, started, show, season, we...\n",
       "297611                          [theglamlife, twitter, long]\n",
       "1583624      [listening, rock, age, work, weee, reelpersona]\n",
       "                                 ...                        \n",
       "394263                                [wish, beatles, purse]\n",
       "355930     [fux, friday, uggh, hot, jam, amp, spot, b, li...\n",
       "701606          [lalala, miss, school, friend, daily, basis]\n",
       "946503     [beinggayle, dod, watched, notebook, kso, dami...\n",
       "1232072    [serialseb, quot, long, piece, string, quot, p...\n",
       "Name: text_processed, Length: 1000, dtype: object"
      ]
     },
     "execution_count": 30,
     "metadata": {},
     "output_type": "execute_result"
    }
   ],
   "source": [
    "data['text_processed']"
   ]
  },
  {
   "cell_type": "markdown",
   "metadata": {},
   "source": [
    "### Creating Bag of Words\n",
    "\n",
    "The purpose of this step is to create a [bag of words](https://en.wikipedia.org/wiki/Bag-of-words_model) from the processed data. The bag of words contains all the unique words in your whole text body (a.k.a. *corpus*) with the number of occurrence of each word. It will allow you to understand which words are the most important features across the whole corpus.\n",
    "\n",
    "Also, you can imagine you will have a massive set of words. The less important words (i.e. those of very low number of occurrence) do not contribute much to the sentiment. Therefore, you only need to use the most important words to build your feature set in the next step. In our case, we will use the top 5,000 words with the highest frequency to build the features.\n",
    "\n",
    "In the cell below, combine all the words in `text_processed` and calculate the frequency distribution of all words. A convenient library to calculate the term frequency distribution is NLTK's `FreqDist` class ([documentation](https://www.nltk.org/api/nltk.html#module-nltk.probability)). Then select the top 5,000 words from the frequency distribution."
   ]
  },
  {
   "cell_type": "code",
   "execution_count": 31,
   "metadata": {
    "ExecuteTime": {
     "end_time": "2022-10-26T08:08:54.321181Z",
     "start_time": "2022-10-26T08:08:54.307168Z"
    }
   },
   "outputs": [],
   "source": [
    "from nltk.probability import FreqDist\n",
    "import numpy as np\n",
    "n_words = 5000\n",
    "\n",
    "f_dist = FreqDist([item for sublist in data.text_processed for item in sublist])\n",
    "top_words = [i for i in f_dist][:n_words]"
   ]
  },
  {
   "cell_type": "markdown",
   "metadata": {},
   "source": [
    "### Building Features\n",
    "\n",
    "Now let's build the features. Using the top 5,000 words, create a 2-dimensional matrix to record whether each of those words is contained in each document (tweet). Then you also have an output column to indicate whether the sentiment in each tweet is positive. For example, assuming your bag of words has 5 items (`['one', 'two', 'three', 'four', 'five']`) out of 4 documents (`['A', 'B', 'C', 'D']`), your feature set is essentially:\n",
    "\n",
    "| Doc | one | two | three | four | five | is_positive |\n",
    "|---|---|---|---|---|---|---|\n",
    "| A | True | False | False | True | False | True |\n",
    "| B | False | False | False | True | True | False |\n",
    "| C | False | True | False | False | False | True |\n",
    "| D | True | False | False | False | True | False|\n",
    "\n",
    "However, because the `nltk.NaiveBayesClassifier.train` class we will use in the next step does not work with Pandas dataframe, the structure of your feature set should be converted to the Python list looking like below:\n",
    "\n",
    "```python\n",
    "[\n",
    "\t({\n",
    "\t\t'one': True,\n",
    "\t\t'two': False,\n",
    "\t\t'three': False,\n",
    "\t\t'four': True,\n",
    "\t\t'five': False\n",
    "\t}, True),\n",
    "\t({\n",
    "\t\t'one': False,\n",
    "\t\t'two': False,\n",
    "\t\t'three': False,\n",
    "\t\t'four': True,\n",
    "\t\t'five': True\n",
    "\t}, False),\n",
    "\t({\n",
    "\t\t'one': False,\n",
    "\t\t'two': True,\n",
    "\t\t'three': False,\n",
    "\t\t'four': False,\n",
    "\t\t'five': False\n",
    "\t}, True),\n",
    "\t({\n",
    "\t\t'one': True,\n",
    "\t\t'two': False,\n",
    "\t\t'three': False,\n",
    "\t\t'four': False,\n",
    "\t\t'five': True\n",
    "\t}, False)\n",
    "]\n",
    "```\n",
    "\n",
    "To help you in this step, watch the [following video](https://www.youtube.com/watch?v=-vVskDsHcVc) to learn how to build the feature set with Python and NLTK. The source code in this video can be found [here](https://pythonprogramming.net/words-as-features-nltk-tutorial/)."
   ]
  },
  {
   "cell_type": "markdown",
   "metadata": {},
   "source": [
    "[![Building Features](building-features.jpg)](https://www.youtube.com/watch?v=-vVskDsHcVc)"
   ]
  },
  {
   "cell_type": "code",
   "execution_count": 37,
   "metadata": {
    "ExecuteTime": {
     "end_time": "2022-10-26T08:10:28.176509Z",
     "start_time": "2022-10-26T08:10:27.859208Z"
    }
   },
   "outputs": [],
   "source": [
    "def find_features(text):\n",
    "    words = set(text)\n",
    "    features = {}\n",
    "    for w in top_words:\n",
    "        features[w] = (w in words)\n",
    "    return features\n",
    "\n",
    "# Transforming target column into boolean Values\n",
    "# data['target'] = data['target'].map({4: True, 0: False})\n",
    "feature_set = [(find_features(text),target) for text,target in list(zip(data.text_processed, data.target))]"
   ]
  },
  {
   "cell_type": "markdown",
   "metadata": {},
   "source": [
    "### Building and Traininng Naive Bayes Model\n",
    "\n",
    "In this step you will split your feature set into a training and a test set. Then you will create a Bayes classifier instance using `nltk.NaiveBayesClassifier.train` ([example](https://www.nltk.org/book/ch06.html)) to train with the training dataset.\n",
    "\n",
    "After training the model, call `classifier.show_most_informative_features()` to inspect the most important features. The output will look like:\n",
    "\n",
    "```\n",
    "Most Informative Features\n",
    "\t    snow = True            False : True   =     34.3 : 1.0\n",
    "\t  easter = True            False : True   =     26.2 : 1.0\n",
    "\t headach = True            False : True   =     20.9 : 1.0\n",
    "\t    argh = True            False : True   =     17.6 : 1.0\n",
    "\tunfortun = True            False : True   =     16.9 : 1.0\n",
    "\t    jona = True             True : False  =     16.2 : 1.0\n",
    "\t     ach = True            False : True   =     14.9 : 1.0\n",
    "\t     sad = True            False : True   =     13.0 : 1.0\n",
    "\t  parent = True            False : True   =     12.9 : 1.0\n",
    "\t  spring = True            False : True   =     12.7 : 1.0\n",
    "```\n",
    "\n",
    "The [following video](https://www.youtube.com/watch?v=rISOsUaTrO4) will help you complete this step. The source code in this video can be found [here](https://pythonprogramming.net/naive-bayes-classifier-nltk-tutorial/)."
   ]
  },
  {
   "cell_type": "markdown",
   "metadata": {},
   "source": [
    "[![Building and Training NB](nb-model-building.jpg)](https://www.youtube.com/watch?v=rISOsUaTrO4)"
   ]
  },
  {
   "cell_type": "code",
   "execution_count": 41,
   "metadata": {
    "ExecuteTime": {
     "end_time": "2022-10-26T08:11:56.466921Z",
     "start_time": "2022-10-26T08:11:56.457913Z"
    }
   },
   "outputs": [],
   "source": [
    "train = feature_set[:round(len(data)*0.75)]\n",
    "test = feature_set[round(len(data)*0.25):]"
   ]
  },
  {
   "cell_type": "code",
   "execution_count": 42,
   "metadata": {
    "ExecuteTime": {
     "end_time": "2022-10-26T08:12:00.190101Z",
     "start_time": "2022-10-26T08:11:58.619524Z"
    }
   },
   "outputs": [],
   "source": [
    "classifier = nltk.NaiveBayesClassifier.train(train)"
   ]
  },
  {
   "cell_type": "markdown",
   "metadata": {},
   "source": [
    "### Testing Naive Bayes Model\n",
    "\n",
    "Now we'll test our classifier with the test dataset. This is done by calling `nltk.classify.accuracy(classifier, test)`.\n",
    "\n",
    "As mentioned in one of the tutorial videos, a Naive Bayes model is considered OK if your accuracy score is over 0.6. If your accuracy score is over 0.7, you've done a great job!"
   ]
  },
  {
   "cell_type": "code",
   "execution_count": 43,
   "metadata": {
    "ExecuteTime": {
     "end_time": "2022-10-26T08:12:07.439756Z",
     "start_time": "2022-10-26T08:12:02.853104Z"
    }
   },
   "outputs": [
    {
     "name": "stdout",
     "output_type": "stream",
     "text": [
      "Classifier accuracy percent: 86.4\n",
      "Most Informative Features\n",
      "                   sorry = True            False : True   =      8.4 : 1.0\n",
      "                    cute = True             True : False  =      6.1 : 1.0\n",
      "                    luck = True             True : False  =      5.4 : 1.0\n",
      "                   watch = True             True : False  =      5.4 : 1.0\n",
      "                       r = True             True : False  =      4.6 : 1.0\n",
      "                    love = True             True : False  =      4.2 : 1.0\n",
      "                   great = True             True : False  =      4.1 : 1.0\n",
      "                   photo = True             True : False  =      3.9 : 1.0\n",
      "                     run = True             True : False  =      3.9 : 1.0\n",
      "                     yay = True             True : False  =      3.9 : 1.0\n",
      "                    wish = True            False : True   =      3.9 : 1.0\n",
      "                   bored = True            False : True   =      3.4 : 1.0\n",
      "                homework = True            False : True   =      3.4 : 1.0\n",
      "                    late = True            False : True   =      3.4 : 1.0\n",
      "               yesterday = True            False : True   =      3.4 : 1.0\n"
     ]
    }
   ],
   "source": [
    "print(\"Classifier accuracy percent:\",(nltk.classify.accuracy(classifier, test))*100)\n",
    "classifier.show_most_informative_features(15)"
   ]
  },
  {
   "cell_type": "markdown",
   "metadata": {},
   "source": [
    "## Bonus Question 1: Improve Model Performance\n",
    "\n",
    "If you are still not exhausted so far and want to dig deeper, try to improve your classifier performance. There are many aspects you can dig into, for example:\n",
    "\n",
    "* Improve stemming and lemmatization. Inspect your bag of words and the most important features. Are there any words you should furuther remove from analysis? You can append these words to further remove to the stop words list.\n",
    "\n",
    "* Remember we only used the top 5,000 features to build model? Try using different numbers of top features. The bottom line is to use as few features as you can without compromising your model performance. The fewer features you select into your model, the faster your model is trained. Then you can use a larger sample size to improve your model accuracy score."
   ]
  },
  {
   "cell_type": "code",
   "execution_count": 44,
   "metadata": {
    "ExecuteTime": {
     "end_time": "2022-10-26T08:12:17.822029Z",
     "start_time": "2022-10-26T08:12:17.819026Z"
    }
   },
   "outputs": [],
   "source": [
    "lst = classifier.most_informative_features(500)"
   ]
  },
  {
   "cell_type": "code",
   "execution_count": 45,
   "metadata": {
    "ExecuteTime": {
     "end_time": "2022-10-26T08:12:23.049947Z",
     "start_time": "2022-10-26T08:12:23.033931Z"
    }
   },
   "outputs": [],
   "source": [
    "top_cols = [i[0] for i in lst]"
   ]
  },
  {
   "cell_type": "code",
   "execution_count": 46,
   "metadata": {
    "ExecuteTime": {
     "end_time": "2022-10-26T08:12:24.598217Z",
     "start_time": "2022-10-26T08:12:24.536166Z"
    }
   },
   "outputs": [],
   "source": [
    "def find_features_2(text):\n",
    "    words = set(text)\n",
    "    features = {}\n",
    "    for w in top_cols:\n",
    "        features[w] = (w in words)\n",
    "    return features\n",
    "\n",
    "feature_set_2 = [(find_features_2(text),target) for text,target in list(zip(data.text_processed, data.target))]"
   ]
  },
  {
   "cell_type": "code",
   "execution_count": 47,
   "metadata": {
    "ExecuteTime": {
     "end_time": "2022-10-26T08:12:28.583164Z",
     "start_time": "2022-10-26T08:12:28.575156Z"
    }
   },
   "outputs": [],
   "source": [
    "train_t = feature_set_2[:round(len(data)*0.75)]\n",
    "test_t = feature_set_2[round(len(data)*0.25):]"
   ]
  },
  {
   "cell_type": "code",
   "execution_count": 48,
   "metadata": {
    "ExecuteTime": {
     "end_time": "2022-10-26T08:12:30.840276Z",
     "start_time": "2022-10-26T08:12:30.624081Z"
    }
   },
   "outputs": [],
   "source": [
    "classifier_2 = nltk.NaiveBayesClassifier.train(train_t)"
   ]
  },
  {
   "cell_type": "code",
   "execution_count": 49,
   "metadata": {
    "ExecuteTime": {
     "end_time": "2022-10-26T08:12:32.275658Z",
     "start_time": "2022-10-26T08:12:31.663744Z"
    },
    "scrolled": true
   },
   "outputs": [
    {
     "name": "stdout",
     "output_type": "stream",
     "text": [
      "Classifier accuracy percent: 73.2\n"
     ]
    }
   ],
   "source": [
    "print(\"Classifier accuracy percent:\",(nltk.classify.accuracy(classifier_2, test_t))*100)"
   ]
  },
  {
   "cell_type": "markdown",
   "metadata": {},
   "source": [
    "**Notes**\n",
    "***\n",
    "As we can see above, we can achieve acceptable performance with 10x less features"
   ]
  },
  {
   "cell_type": "markdown",
   "metadata": {},
   "source": [
    "## Bonus Question 2: Machine Learning Pipeline\n",
    "\n",
    "In a new Jupyter Notebook, combine all your codes into a function (or a class). Your new function will execute the complete machine learning pipeline job by receiving the dataset location and output the classifier. This will allow you to use your function to predict the sentiment of any tweet in real time. "
   ]
  },
  {
   "cell_type": "code",
   "execution_count": 11,
   "metadata": {
    "ExecuteTime": {
     "end_time": "2022-10-27T14:09:21.461051Z",
     "start_time": "2022-10-27T14:09:21.431024Z"
    }
   },
   "outputs": [],
   "source": [
    "import swifter\n",
    "import re\n",
    "from nltk.probability import FreqDist\n",
    "from sklearn.model_selection import train_test_split\n",
    "import numpy as np\n",
    "import pandas as pd\n",
    "import re\n",
    "from nltk.tokenize import word_tokenize\n",
    "from nltk.stem import WordNetLemmatizer\n",
    "import nltk\n",
    "from nltk.corpus import stopwords\n",
    "from tensorflow.keras.utils import to_categorical\n",
    "\n",
    "\n",
    "class WordClassifier:\n",
    "    \n",
    "    cache_words = stopwords.words('english')\n",
    "    \n",
    "    def __init__(self, path, n_words=5000, sample=1000000, top_words='',model='', data= '',original=''):\n",
    "        \n",
    "        self.path = path\n",
    "        self.n_words = n_words\n",
    "        self.top_words = top_words\n",
    "        self.model = model\n",
    "        self.data = data\n",
    "        self.sample = sample\n",
    "        self.dataset = original\n",
    "        \n",
    "    def prepare_data(self):\n",
    "        self.dataset = pd.read_csv(self.path,encoding='ISO-8859-1')\n",
    "        self.dataset.columns = ['target', 'id', 'date', 'flag', 'user', 'text']\n",
    "        data = self.dataset.sample(self.sample)\n",
    "        \n",
    "        data['text_processed'] = data['text'].swifter.apply(self.clean_up)\n",
    "        data['text_processed'] = data['text_processed'].swifter.apply(self.tokenize)\n",
    "        data['text_processed'] = data['text_processed'].swifter.apply(self.stem_and_lemmatize)     \n",
    "        data['text_processed'] = data['text_processed'].swifter.apply(self.remove_stopwords)          \n",
    "\n",
    "        f_dist = FreqDist([item for sublist in data.text_processed for item in sublist])\n",
    "        self.top_words = [i for i in f_dist][:self.n_words+1]\n",
    "\n",
    "        lst = data.text_processed.swifter.apply(self.find_features)\n",
    "        df = pd.DataFrame(list(lst), columns=self.top_words)\n",
    "        df['target'] = list(data['target'])\n",
    "        self.data = df\n",
    "        print('Class created')\n",
    "    \n",
    "\n",
    "    def clean_up(self, s):\n",
    "        x = re.sub(r'https?:\\/\\/(www\\.)?[-a-zA-Z0-9@:%._\\+~#=]{1,256}\\.[a-zA-Z0-9()]{1,3}\\b', ' ',s)\n",
    "        x = re.findall(r' ?[a-zA-Z]+', x)\n",
    "        return \" \".join(x).lower()\n",
    "    \n",
    "\n",
    "    def tokenize(self,s):\n",
    "        return word_tokenize(s)\n",
    "    \n",
    "\n",
    "    def stem_and_lemmatize(self,l):\n",
    "        lemmatizer = WordNetLemmatizer()\n",
    "        return [lemmatizer.lemmatize(x) for x in l]\n",
    "    \n",
    "\n",
    "    def remove_stopwords(self,l):\n",
    "#         return list(set(l).difference(stopwords.words('english')))\n",
    "        return [word for word in l if not word in self.cache_words]\n",
    "\n",
    "    def find_features(self, text):\n",
    "        words = set(text)\n",
    "        features = []\n",
    "        for w in self.top_words:\n",
    "            if w in words:\n",
    "                features.append(1)\n",
    "            else:\n",
    "                features.append(0)\n",
    "        return features\n",
    "    \n",
    "    def create_model(self, d1= 300, d2=100, batch=20, activation = 'sigmoid'):\n",
    "        import numpy as np\n",
    "        from keras.models import Sequential\n",
    "        from keras.layers import Dense\n",
    "        import tensorflow as tf\n",
    "        from keras.callbacks import ReduceLROnPlateau, EarlyStopping\n",
    "        \n",
    "        tf.config.set_visible_devices([], 'GPU')\n",
    "        \n",
    "        X = np.array(self.data.drop(columns='target')).astype(np.float32)\n",
    "        y = np.array(self.data.target.swifter.map({4: True, 0: False})).astype(np.float32)\n",
    "        X_train, X_test, y_train, y_test = train_test_split(X, y, test_size=0.20)  \n",
    "        print('Creating model, please wait.')\n",
    "        \n",
    "        print(len(self.data.columns)-1)\n",
    "        \n",
    "        # Build the model.\n",
    "        model = Sequential([ \n",
    "            Dense(d1, activation='relu', input_shape=(len(self.data.columns)-1,)), \n",
    "            Dense(d1, activation='relu'),\n",
    "            Dense(d2, activation='relu'),\n",
    "            Dense(d1, activation='relu'),\n",
    "            Dense(d2, activation='relu'),\n",
    "            Dense(1, activation=activation)])\n",
    "\n",
    "        # Compile the model.\n",
    "        model.compile(\n",
    "          optimizer='adam', \n",
    "          loss='binary_crossentropy', \n",
    "          metrics=['accuracy'],\n",
    "        )\n",
    "        \n",
    "        # setting up callbacks\n",
    "        callbacks = [ ReduceLROnPlateau(monitor='loss', patience=10, cooldown=0),\n",
    "              EarlyStopping(monitor='accuracy', min_delta=1e-4, patience=10)]\n",
    "            \n",
    "        # Train the model.\n",
    "        history = model.fit(\n",
    "            X_train,\n",
    "            y_train, \n",
    "            epochs=50,\n",
    "            batch_size=batch, \n",
    "            verbose = 1,\n",
    "            use_multiprocessing = 1,\n",
    "            callbacks = callbacks,\n",
    "        )\n",
    "        \n",
    "        print('Evaluate model\\n')\n",
    "        self.model = history\n",
    "        # Evaluate the model.\n",
    "        model.evaluate(\n",
    "          X_test,\n",
    "          y_test\n",
    "        )\n",
    "        \n",
    "        return self.model\n",
    "    \n",
    "    def get_data(self):\n",
    "        return self.data\n",
    "    \n",
    "    def data_feed(self, df):\n",
    "        self.data = df\n",
    "        \n",
    "    def get_stop_words(self):\n",
    "        return self.cache_words"
   ]
  },
  {
   "cell_type": "code",
   "execution_count": 12,
   "metadata": {
    "ExecuteTime": {
     "end_time": "2022-10-27T14:18:15.675092Z",
     "start_time": "2022-10-27T14:09:27.164866Z"
    }
   },
   "outputs": [
    {
     "name": "stdout",
     "output_type": "stream",
     "text": [
      "Inicializing class, please wait.\n"
     ]
    },
    {
     "data": {
      "application/vnd.jupyter.widget-view+json": {
       "model_id": "200634e413234622bf781599882c017f",
       "version_major": 2,
       "version_minor": 0
      },
      "text/plain": [
       "Pandas Apply:   0%|          | 0/250000 [00:00<?, ?it/s]"
      ]
     },
     "metadata": {},
     "output_type": "display_data"
    },
    {
     "name": "stdout",
     "output_type": "stream",
     "text": [
      "Tokenize.\n"
     ]
    },
    {
     "data": {
      "application/vnd.jupyter.widget-view+json": {
       "model_id": "38f0124a98354eb2bb7adf6f2915feb6",
       "version_major": 2,
       "version_minor": 0
      },
      "text/plain": [
       "Pandas Apply:   0%|          | 0/250000 [00:00<?, ?it/s]"
      ]
     },
     "metadata": {},
     "output_type": "display_data"
    },
    {
     "name": "stdout",
     "output_type": "stream",
     "text": [
      "Stem/Lem.\n"
     ]
    },
    {
     "data": {
      "application/vnd.jupyter.widget-view+json": {
       "model_id": "6b3558a719514d3d9260976ac19307d0",
       "version_major": 2,
       "version_minor": 0
      },
      "text/plain": [
       "Pandas Apply:   0%|          | 0/250000 [00:00<?, ?it/s]"
      ]
     },
     "metadata": {},
     "output_type": "display_data"
    },
    {
     "name": "stdout",
     "output_type": "stream",
     "text": [
      "Stopwords.\n"
     ]
    },
    {
     "data": {
      "application/vnd.jupyter.widget-view+json": {
       "model_id": "0f314a6d97dc44dd8e557d7f39e54497",
       "version_major": 2,
       "version_minor": 0
      },
      "text/plain": [
       "Pandas Apply:   0%|          | 0/250000 [00:00<?, ?it/s]"
      ]
     },
     "metadata": {},
     "output_type": "display_data"
    },
    {
     "data": {
      "application/vnd.jupyter.widget-view+json": {
       "model_id": "afe488588fc24a56865664182c13acca",
       "version_major": 2,
       "version_minor": 0
      },
      "text/plain": [
       "Pandas Apply:   0%|          | 0/250000 [00:00<?, ?it/s]"
      ]
     },
     "metadata": {},
     "output_type": "display_data"
    },
    {
     "name": "stdout",
     "output_type": "stream",
     "text": [
      "Class created\n"
     ]
    }
   ],
   "source": [
    "new_model = WordClassifier('training.1600000.processed.noemoticon.csv')\n",
    "new_model.prepare_data()"
   ]
  },
  {
   "cell_type": "code",
   "execution_count": null,
   "metadata": {
    "ExecuteTime": {
     "start_time": "2022-10-27T14:49:43.150Z"
    },
    "scrolled": true
   },
   "outputs": [
    {
     "data": {
      "text/plain": [
       "(200000, 5000)"
      ]
     },
     "metadata": {},
     "output_type": "display_data"
    },
    {
     "data": {
      "text/plain": [
       "(200000,)"
      ]
     },
     "metadata": {},
     "output_type": "display_data"
    },
    {
     "name": "stdout",
     "output_type": "stream",
     "text": [
      "Creating model, please wait.\n",
      "5000\n",
      "Epoch 1/50\n",
      "4000/4000 [==============================] - 341s 85ms/step - loss: 0.5143 - accuracy: 0.7470 - lr: 0.0010\n",
      "Epoch 2/50\n",
      "4000/4000 [==============================] - 345s 86ms/step - loss: 0.4283 - accuracy: 0.8006 - lr: 0.0010\n",
      "Epoch 3/50\n",
      "4000/4000 [==============================] - 340s 85ms/step - loss: 0.2169 - accuracy: 0.9080 - lr: 0.0010\n",
      "Epoch 4/50\n",
      "4000/4000 [==============================] - 349s 87ms/step - loss: 0.0889 - accuracy: 0.9623 - lr: 0.0010\n",
      "Epoch 5/50\n",
      "4000/4000 [==============================] - 344s 86ms/step - loss: 0.0633 - accuracy: 0.9729 - lr: 0.0010\n",
      "Epoch 6/50\n",
      "4000/4000 [==============================] - 332s 83ms/step - loss: 0.0537 - accuracy: 0.9765 - lr: 0.0010\n",
      "Epoch 7/50\n",
      "4000/4000 [==============================] - 338s 84ms/step - loss: 0.0472 - accuracy: 0.9790 - lr: 0.0010\n",
      "Epoch 8/50\n",
      "4000/4000 [==============================] - 336s 84ms/step - loss: 0.0443 - accuracy: 0.9799 - lr: 0.0010\n",
      "Epoch 9/50\n",
      "4000/4000 [==============================] - 335s 84ms/step - loss: 0.0410 - accuracy: 0.9806 - lr: 0.0010\n",
      "Epoch 10/50\n",
      "4000/4000 [==============================] - 335s 84ms/step - loss: 0.0410 - accuracy: 0.9810 - lr: 0.0010\n",
      "Epoch 11/50\n",
      "2487/4000 [=================>............] - ETA: 2:10 - loss: 0.0362 - accuracy: 0.9824"
     ]
    }
   ],
   "source": [
    "new_model.create_model(2000,1000,50)"
   ]
  },
  {
   "cell_type": "code",
   "execution_count": 41,
   "metadata": {
    "ExecuteTime": {
     "end_time": "2022-10-26T14:09:12.506554Z",
     "start_time": "2022-10-26T14:09:12.500549Z"
    }
   },
   "outputs": [],
   "source": [
    "new_model.data_feed(dt)"
   ]
  }
 ],
 "metadata": {
  "kernelspec": {
   "display_name": "Python 3 (ipykernel)",
   "language": "python",
   "name": "python3"
  },
  "language_info": {
   "codemirror_mode": {
    "name": "ipython",
    "version": 3
   },
   "file_extension": ".py",
   "mimetype": "text/x-python",
   "name": "python",
   "nbconvert_exporter": "python",
   "pygments_lexer": "ipython3",
   "version": "3.9.12"
  },
  "toc": {
   "base_numbering": 1,
   "nav_menu": {},
   "number_sections": true,
   "sideBar": true,
   "skip_h1_title": false,
   "title_cell": "Table of Contents",
   "title_sidebar": "Contents",
   "toc_cell": false,
   "toc_position": {},
   "toc_section_display": true,
   "toc_window_display": false
  }
 },
 "nbformat": 4,
 "nbformat_minor": 2
}
